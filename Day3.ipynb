{
  "nbformat": 4,
  "nbformat_minor": 0,
  "metadata": {
    "colab": {
      "provenance": [],
      "authorship_tag": "ABX9TyPwBVliYprUR3dmjPQqz+7Y",
      "include_colab_link": true
    },
    "kernelspec": {
      "name": "python3",
      "display_name": "Python 3"
    },
    "language_info": {
      "name": "python"
    }
  },
  "cells": [
    {
      "cell_type": "markdown",
      "metadata": {
        "id": "view-in-github",
        "colab_type": "text"
      },
      "source": [
        "<a href=\"https://colab.research.google.com/github/karishmasd/Python-for-30-days/blob/main/Day3.ipynb\" target=\"_parent\"><img src=\"https://colab.research.google.com/assets/colab-badge.svg\" alt=\"Open In Colab\"/></a>"
      ]
    },
    {
      "cell_type": "markdown",
      "source": [
        "On the second day of the Python challenge, I explored some fundamental concepts that form the backbone of programming:  \n",
        "\n",
        "- **Functions**: Functions allow us to encapsulate blocks of reusable code, making programs more organized and efficient. They can accept input (parameters) and return specific outputs.  \n",
        "- **Comments**: The `#` symbol is used to add comments, which serve as notes or explanations within the code. These comments help improve readability and understanding for others (or even our future selves).  \n",
        "- **Inbuilt Functions**: I discovered several handy built-in functions, such as:  \n",
        "  - `print()` to display output,  \n",
        "  - `type()` to check data types,  \n",
        "  - `max()` and `min()` for identifying maximum and minimum values,  \n",
        "  - `len()` to measure the length of a collection, and more.  \n",
        "\n",
        "Later, I delved into **conditional statements**, which enable decision-making in programs. This included:  \n",
        "- Understanding logical operators like `and`, `or`, and `not`, which are essential for building complex conditions.  \n",
        "- Applying these operators to evaluate expressions and control the program flow.  \n",
        "\n",
        "------------------\n",
        "Day 3!"
      ],
      "metadata": {
        "id": "SBEgK0HJAdHC"
      }
    },
    {
      "cell_type": "code",
      "execution_count": null,
      "metadata": {
        "colab": {
          "base_uri": "https://localhost:8080/"
        },
        "id": "1eCDDpG94EpF",
        "outputId": "2db021ce-ca77-40b6-beda-6c8c7d9cb153"
      },
      "outputs": [
        {
          "output_type": "stream",
          "name": "stdout",
          "text": [
            "True\n"
          ]
        }
      ],
      "source": [
        "#Logical operators\n",
        "print(\"karishma\">\"Gousia\")#checking the alphabetical order"
      ]
    },
    {
      "cell_type": "code",
      "source": [
        "#print(1=\"1\") gives a type error because python doesnot know how to compare a inta nd str\n",
        "print(1==\"1\")\n",
        "print (1 != 2)"
      ],
      "metadata": {
        "colab": {
          "base_uri": "https://localhost:8080/"
        },
        "id": "nC1ClTU64VgQ",
        "outputId": "61f3fd99-7815-4f57-819c-642ed39873cb"
      },
      "execution_count": null,
      "outputs": [
        {
          "output_type": "stream",
          "name": "stdout",
          "text": [
            "False\n",
            "True\n"
          ]
        }
      ]
    },
    {
      "cell_type": "code",
      "source": [
        "print(\"xyz\">\"abc\" and 2>-1)\n",
        "print(3>1 and 1>4)\n",
        "print(3>1 or  1>4)\n"
      ],
      "metadata": {
        "colab": {
          "base_uri": "https://localhost:8080/"
        },
        "id": "3e3KC5dA5LPb",
        "outputId": "4572ade5-84a8-4290-e142-e6f13076a11d"
      },
      "execution_count": null,
      "outputs": [
        {
          "output_type": "stream",
          "name": "stdout",
          "text": [
            "True\n",
            "False\n",
            "True\n"
          ]
        }
      ]
    },
    {
      "cell_type": "code",
      "source": [
        "print(\"cat\"==\"dog\")\n",
        "print(not \"cat\"==\"dog\")"
      ],
      "metadata": {
        "colab": {
          "base_uri": "https://localhost:8080/"
        },
        "id": "TlESq_Z353LM",
        "outputId": "c87222de-e745-41f4-daeb-3d43618554f9"
      },
      "execution_count": null,
      "outputs": [
        {
          "output_type": "stream",
          "name": "stdout",
          "text": [
            "False\n",
            "True\n"
          ]
        }
      ]
    },
    {
      "cell_type": "markdown",
      "source": [
        "The comparison operators greater than > and less than < can be used to alphabetize words in Python. The letters of the alphabet have numeric codes in Unicode (also known as ASCII values). The uppercase letters A to Z are represented by the Unicode values 65 to 90. The lowercase letters a to z are represented by the Unicode values 97 to 122."
      ],
      "metadata": {
        "id": "W6XTvVM390tg"
      }
    },
    {
      "cell_type": "code",
      "source": [
        "print(\"my computeR\">\"my computer\")\n",
        "print(\"sunbathe\" > \"suntan\")\n",
        "print(\"Lima\" < \"Lima\")"
      ],
      "metadata": {
        "colab": {
          "base_uri": "https://localhost:8080/"
        },
        "id": "VWnFmjQB6OyF",
        "outputId": "338d63f9-105b-4562-e207-f1213ad9b0c1"
      },
      "execution_count": null,
      "outputs": [
        {
          "output_type": "stream",
          "name": "stdout",
          "text": [
            "False\n",
            "False\n",
            "False\n"
          ]
        }
      ]
    },
    {
      "cell_type": "markdown",
      "source": [
        "or operator\n",
        "\n",
        "t+t=t\n",
        "\n",
        "\n",
        "t+f=t\n",
        "\n",
        "\n",
        "f+t=t\n",
        "\n",
        "\n",
        "f+f=f\n",
        "\n",
        "\n",
        "a == a and a != b\n",
        "\n",
        "True if both sides are True, otherwise False.\n",
        "\n",
        "a > b or a <= c\n",
        "\n",
        "True if either side is True. False if both sides are False.\n",
        "\n",
        "not a == b\n",
        "\n",
        "True if the statement is False, False if the statement is True."
      ],
      "metadata": {
        "id": "3XR59oDE_Gkf"
      }
    },
    {
      "cell_type": "markdown",
      "source": [
        "**If Statements**"
      ],
      "metadata": {
        "id": "tiMIulQfBSwB"
      }
    },
    {
      "cell_type": "code",
      "source": [
        "def username():\n",
        "  name=str(input(\"Enter your name :\"))\n",
        "  if len(name)>10 :\n",
        "    return print(\"TOO LONG NAME !\")\n",
        "username()"
      ],
      "metadata": {
        "colab": {
          "base_uri": "https://localhost:8080/"
        },
        "id": "8DvD89ABBYI2",
        "outputId": "9bf44c2a-1ea4-4736-f843-e6a124ee26fb"
      },
      "execution_count": 2,
      "outputs": [
        {
          "output_type": "stream",
          "name": "stdout",
          "text": [
            "Enter your name :Karishma Syed\n",
            "TOO LONG NAME !\n"
          ]
        }
      ]
    },
    {
      "cell_type": "code",
      "source": [
        "def username():\n",
        "  name=str(input(\"Enter your offical name : \"))\n",
        "  if len(name)>10:\n",
        "    print(\"too long name for offical name \")\n",
        "  else:\n",
        "    print(\"Nice to meet you\",name,\"Hope you have write time here at xyz Company\")\n",
        "username()"
      ],
      "metadata": {
        "colab": {
          "base_uri": "https://localhost:8080/"
        },
        "id": "SjfUl8b-CEUE",
        "outputId": "c17906b6-d9ed-4a77-abf5-981d33d10705"
      },
      "execution_count": 10,
      "outputs": [
        {
          "output_type": "stream",
          "name": "stdout",
          "text": [
            "Enter your offical name : Karishma\n",
            "Nice to meet you Karishma Hope you have write time here at xyz Company\n"
          ]
        }
      ]
    },
    {
      "cell_type": "code",
      "source": [
        "def username():\n",
        "  name=str(input(\"Enter your offical name : \"))\n",
        "  if len(name)>10:\n",
        "    print(\"Too long  offical name !\")\n",
        "  else:\n",
        "    print(\"Nice to meet you\",name,\"Hope you have write time here at xyz Company\")\n",
        "username()"
      ],
      "metadata": {
        "colab": {
          "base_uri": "https://localhost:8080/"
        },
        "id": "UYIMAORbEjoZ",
        "outputId": "1ec9ee8d-a39a-4f43-d89d-f1a187f6a142"
      },
      "execution_count": 12,
      "outputs": [
        {
          "output_type": "stream",
          "name": "stdout",
          "text": [
            "Enter your offical name : Karishma Syed\n",
            "Too long name for offical name \n"
          ]
        }
      ]
    },
    {
      "cell_type": "markdown",
      "source": [
        "**Is number even or odd**"
      ],
      "metadata": {
        "id": "GBGqLKdzE48o"
      }
    },
    {
      "cell_type": "code",
      "source": [
        "def is_even():\n",
        "  number=int(input(\"Enter any number :\"))\n",
        "  if number%2==0:\n",
        "    print(number, 'is an even number')\n",
        "  else:\n",
        "    print(number, 'is an odd number')\n",
        "is_even()"
      ],
      "metadata": {
        "colab": {
          "base_uri": "https://localhost:8080/"
        },
        "id": "WF6vRZA8E_Np",
        "outputId": "0a642b23-23b8-4032-812e-995d1f2ccf48"
      },
      "execution_count": 13,
      "outputs": [
        {
          "output_type": "stream",
          "name": "stdout",
          "text": [
            "Enter any number :35\n",
            "35 is an odd number\n"
          ]
        }
      ]
    },
    {
      "cell_type": "code",
      "source": [
        "def is_even():\n",
        "  number=int(input(\"Is even  , Enter the  number  :\"))\n",
        "  if number%2==0:\n",
        "    return True\n",
        "  return False\n",
        "is_even()"
      ],
      "metadata": {
        "colab": {
          "base_uri": "https://localhost:8080/"
        },
        "id": "G8LMgILoHXKV",
        "outputId": "56451258-bf46-40d1-9607-6905a5107b69"
      },
      "execution_count": 18,
      "outputs": [
        {
          "name": "stdout",
          "output_type": "stream",
          "text": [
            "Is even  , Enter the  number  :2\n"
          ]
        },
        {
          "output_type": "execute_result",
          "data": {
            "text/plain": [
              "True"
            ]
          },
          "metadata": {},
          "execution_count": 18
        }
      ]
    },
    {
      "cell_type": "code",
      "source": [
        "def is_even():\n",
        "  number=int(input(\"Is even  , Enter the  number  :\"))\n",
        "  if number%2==0:\n",
        "    return print(\"The number \",number,\"is an even number\")\n",
        "  return print(\"The number \",number,\"is an odd number\")\n",
        "is_even()"
      ],
      "metadata": {
        "colab": {
          "base_uri": "https://localhost:8080/"
        },
        "id": "h9nISDwfIHV6",
        "outputId": "c6e65813-d04b-48d6-c556-13571dfa444e"
      },
      "execution_count": 21,
      "outputs": [
        {
          "output_type": "stream",
          "name": "stdout",
          "text": [
            "Is even  , Enter the  number  :1456\n",
            "The number  1456 is an even number\n"
          ]
        }
      ]
    },
    {
      "cell_type": "markdown",
      "source": [
        "**Else if**"
      ],
      "metadata": {
        "id": "72nOhG9pJZ4R"
      }
    },
    {
      "cell_type": "markdown",
      "source": [
        "Write a program to determine a student's grade based on their score:\n",
        "\n",
        "90-100: \"A\"\n",
        "80-89: \"B\"\n",
        "70-79: \"C\"\n",
        "60-69: \"D\"\n",
        "Below 60: \"F\"\n",
        "Handle invalid scores (e.g., less than 0 or greater than 100) with an error message."
      ],
      "metadata": {
        "id": "pvDgH3e2J9ry"
      }
    },
    {
      "cell_type": "code",
      "source": [
        "def grade():\n",
        "  marks=int(input(\"Enter your marks : \"))\n",
        "  if marks>=90 and marks<=100:\n",
        "    print(\"Your grade is A\")\n",
        "  else:\n",
        "    if marks>=80 and marks<=89:\n",
        "      print(\"Your grade is B\")\n",
        "    else:\n",
        "      if marks>=70 and marks<=79:\n",
        "        print(\"Your grade is C\")\n",
        "      else:\n",
        "        if marks>=60 and marks<=69:\n",
        "          print(\"Your grade is D\")\n",
        "        else:\n",
        "          if marks>=0 and marks<=59:\n",
        "            print(\"Your grade is F\")\n",
        "          else:\n",
        "            print(\"Invalid marks\")\n",
        "grade()\n",
        "\n",
        "\n"
      ],
      "metadata": {
        "colab": {
          "base_uri": "https://localhost:8080/"
        },
        "id": "kfdTa-giJezb",
        "outputId": "1032f1ff-4717-4f9d-eeb2-e8eb7d38db4b"
      },
      "execution_count": 31,
      "outputs": [
        {
          "output_type": "stream",
          "name": "stdout",
          "text": [
            "Enter your marks : 86\n",
            "Your grade is B\n"
          ]
        }
      ]
    },
    {
      "cell_type": "code",
      "source": [
        "def grade():\n",
        "  marks=int(input(\"Enter your marks : \"))\n",
        "  if marks>=90 and marks<=100:\n",
        "    print(\"Your grade is A\")\n",
        "  elif marks>=80 and marks<=89:\n",
        "      print(\"Your grade is B\")\n",
        "  elif marks>=70 and marks<=79:\n",
        "        print(\"Your grade is C\")\n",
        "  elif marks>=60 and marks<=69:\n",
        "          print(\"Your grade is D\")\n",
        "  elif marks>=0 and marks<=59:\n",
        "            print(\"Your grade is F\")\n",
        "  else:\n",
        "            print(\"Invalid marks\")\n",
        "grade()\n",
        "\n",
        ""
      ],
      "metadata": {
        "colab": {
          "base_uri": "https://localhost:8080/"
        },
        "id": "GTKaPtetXLcL",
        "outputId": "d0fb30c8-5969-48c3-e9db-e57e84105821"
      },
      "execution_count": 33,
      "outputs": [
        {
          "output_type": "stream",
          "name": "stdout",
          "text": [
            "Enter your marks : -25\n",
            "Invalid marks\n"
          ]
        }
      ]
    },
    {
      "cell_type": "markdown",
      "source": [
        "**Rock, Paper, Scissors Game\n",
        "Build a simple game where:\n",
        "The user enters their choice (\"rock\", \"paper\", or \"scissors\").\n",
        "The computer randomly selects a choice.\n",
        "Use conditions to determine who wins**"
      ],
      "metadata": {
        "id": "nhuzFPBoXunK"
      }
    },
    {
      "cell_type": "code",
      "source": [
        "import random #random generation\n",
        "choices= [\"rock\",\"paper\",\"scissors\"]\n",
        "user_choice=str(input(\"Enter your choice i.e rock,paper,scissors: \"))\n",
        "if user_choice not in choices:\n",
        "  print(\"Invalid choice. Please enter rock , paper or scissors.\")\n",
        "  user_choice=str(input(\"Enter your choice i.e rock,paper,scissors: \"))\n",
        "#if user enters any upper cases\n",
        "user_choice=user_choice.lower()\n",
        "computer_choice= random.choice(choices)\n",
        "print(\"Computer randomly chose\",computer_choice)\n",
        "if user_choice==computer_choice:\n",
        "  print(\"It's a tie \")\n",
        "elif user_choice==\"rock\" and computer_choice==\"scissors\":\n",
        "  print(\"You win\")\n",
        "elif user_choice==\"paper\" and computer_choice==\"rock\":\n",
        "  print(\"You win\")\n",
        "elif user_choice==\"scissors\" and computer_choice==\"paper\":\n",
        "  print(\"You win\")\n",
        "else:\n",
        "  print(\"You lose\")\n"
      ],
      "metadata": {
        "colab": {
          "base_uri": "https://localhost:8080/"
        },
        "id": "-b-uMWwKXt6g",
        "outputId": "90176035-8486-4c2a-9596-64fab51ff499"
      },
      "execution_count": 57,
      "outputs": [
        {
          "output_type": "stream",
          "name": "stdout",
          "text": [
            "Enter your choice i.e rock,paper,scissors: fire\n",
            "Invalid choice. Please enter rock , paper or scissors.\n",
            "Enter your choice i.e rock,paper,scissors: rock\n",
            "Computer randomly chose paper\n",
            "You lose\n"
          ]
        }
      ]
    },
    {
      "cell_type": "markdown",
      "source": [
        "**I will in future make this a game with count of winning and loosing  and with play again option**"
      ],
      "metadata": {
        "id": "wvRClOn_dmKG"
      }
    }
  ]
}