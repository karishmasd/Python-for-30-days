{
  "nbformat": 4,
  "nbformat_minor": 0,
  "metadata": {
    "colab": {
      "provenance": [],
      "authorship_tag": "ABX9TyOGuODQAKC9ru5qDCFnBKsd",
      "include_colab_link": true
    },
    "kernelspec": {
      "name": "python3",
      "display_name": "Python 3"
    },
    "language_info": {
      "name": "python"
    }
  },
  "cells": [
    {
      "cell_type": "markdown",
      "metadata": {
        "id": "view-in-github",
        "colab_type": "text"
      },
      "source": [
        "<a href=\"https://colab.research.google.com/github/karishmasd/Python-for-30-days/blob/main/Day7.ipynb\" target=\"_parent\"><img src=\"https://colab.research.google.com/assets/colab-badge.svg\" alt=\"Open In Colab\"/></a>"
      ]
    },
    {
      "cell_type": "markdown",
      "source": [
        "A while loop executes the body of the loop while a specified condition remains True. They are commonly used when there’s an unknown number of operations to be performed, and a condition needs to be checked at each iteration.\n",
        "\n",
        "while specified condition is True:\n",
        "\n",
        "\n",
        "    body of loop\n",
        "\n",
        "    "
      ],
      "metadata": {
        "id": "CDiwZl_XX8x-"
      }
    },
    {
      "cell_type": "code",
      "source": [
        "multiplier =1\n",
        "result = multiplier *5\n",
        "while result <=50:\n",
        "  print(result)\n",
        "  multiplier+=1\n",
        "  result=multiplier*5\n",
        "print(\"Done\")"
      ],
      "metadata": {
        "colab": {
          "base_uri": "https://localhost:8080/"
        },
        "id": "13IZ__qXYPeh",
        "outputId": "859c995c-52f3-4930-a190-90bd90d133c6"
      },
      "execution_count": 26,
      "outputs": [
        {
          "output_type": "stream",
          "name": "stdout",
          "text": [
            "5\n",
            "10\n",
            "15\n",
            "20\n",
            "25\n",
            "30\n",
            "35\n",
            "40\n",
            "45\n",
            "50\n",
            "Done\n"
          ]
        }
      ]
    },
    {
      "cell_type": "markdown",
      "source": [
        "Write a program that starts with a number n (user input) and counts down to 1, printing each number. Add a message when the countdown ends: \"launch!\""
      ],
      "metadata": {
        "id": "fLsrjq_sZDZl"
      }
    },
    {
      "cell_type": "code",
      "source": [
        "n=int(input(\"Enter a number: \"))\n",
        "while n>0:\n",
        "  print(n)\n",
        "  n-=1\n",
        "print(\"Launch!\")"
      ],
      "metadata": {
        "colab": {
          "base_uri": "https://localhost:8080/"
        },
        "id": "SSTX2nJLZHTR",
        "outputId": "6ca0c359-fede-471c-ae93-4dfacbbf8270"
      },
      "execution_count": 30,
      "outputs": [
        {
          "output_type": "stream",
          "name": "stdout",
          "text": [
            "Enter a number: 0\n",
            "Launch!\n"
          ]
        }
      ]
    },
    {
      "cell_type": "markdown",
      "source": [
        "Count Vowels:\n",
        "Ask the user for a string input. Use a while loop to count the number of vowels in the string."
      ],
      "metadata": {
        "id": "PCjpIXdJZp-n"
      }
    },
    {
      "cell_type": "code",
      "source": [
        "word=str(input(\"Enter a word: \"))\n",
        "vowels= [\"a\",\"e\",\"i\",\"o\",\"u\",\"A\",\"E\",\"I\",\"O\",\"U\"]\n",
        "count=0\n",
        "i=0\n",
        "while i<len(word):\n",
        "  if word[i] in vowels:\n",
        "    count+=1\n",
        "  i+=1\n",
        "\n",
        "print(str(count)+\" vowel found\")"
      ],
      "metadata": {
        "colab": {
          "base_uri": "https://localhost:8080/"
        },
        "id": "1JxwFSeNcJz9",
        "outputId": "9ae29b1d-f10e-44c6-acb5-b39b8c0fde05"
      },
      "execution_count": 1,
      "outputs": [
        {
          "output_type": "stream",
          "name": "stdout",
          "text": [
            "Enter a word: INTER IIT SPORTS MEET \n",
            "7 vowel found\n"
          ]
        }
      ]
    },
    {
      "cell_type": "markdown",
      "source": [
        "**For loop**"
      ],
      "metadata": {
        "id": "uYqMWI-xV5eP"
      }
    },
    {
      "cell_type": "code",
      "source": [
        "for x in range(5):\n",
        "  print(x)"
      ],
      "metadata": {
        "colab": {
          "base_uri": "https://localhost:8080/"
        },
        "id": "WrAPowy4V411",
        "outputId": "1ea1afbd-8c64-4e6f-cf67-97cce453e1be"
      },
      "execution_count": 2,
      "outputs": [
        {
          "output_type": "stream",
          "name": "stdout",
          "text": [
            "0\n",
            "1\n",
            "2\n",
            "3\n",
            "4\n"
          ]
        }
      ]
    },
    {
      "cell_type": "code",
      "source": [
        "friends=[\"Rachel\",\"Ross\",\"Monica\",\"Chandler\",\"Phebhe\",\"Joye\"]\n",
        "for i in friends:\n",
        "  print(\"Hi \",i,\" I am a big fan\")"
      ],
      "metadata": {
        "colab": {
          "base_uri": "https://localhost:8080/"
        },
        "id": "K2EhcZbCWIRR",
        "outputId": "a9f3074e-4d58-4d81-bf67-6ec1d88af272"
      },
      "execution_count": 4,
      "outputs": [
        {
          "output_type": "stream",
          "name": "stdout",
          "text": [
            "Hi  Rachel  I am a big fan\n",
            "Hi  Ross  I am a big fan\n",
            "Hi  Monica  I am a big fan\n",
            "Hi  Chandler  I am a big fan\n",
            "Hi  Phebhe  I am a big fan\n",
            "Hi  Joye  I am a big fan\n"
          ]
        }
      ]
    },
    {
      "cell_type": "code",
      "source": [
        "Values=[12,23,34,56,78,90]\n",
        "sum=0\n",
        "for i in Values:\n",
        "  sum+=i\n",
        "  print(sum)"
      ],
      "metadata": {
        "colab": {
          "base_uri": "https://localhost:8080/"
        },
        "id": "HSurojVOWp4R",
        "outputId": "2451547b-29df-47ae-da71-0109bb6465a6"
      },
      "execution_count": 6,
      "outputs": [
        {
          "output_type": "stream",
          "name": "stdout",
          "text": [
            "12\n",
            "35\n",
            "69\n",
            "125\n",
            "203\n",
            "293\n"
          ]
        }
      ]
    },
    {
      "cell_type": "code",
      "source": [
        "Values=[12,23,34,56,78,90]\n",
        "sum=0\n",
        "for i in Values:\n",
        "  sum+=i\n",
        "  average=sum/len(Values)\n",
        "print(\"The sum of list Values is \",sum,\" and the average is \",average )"
      ],
      "metadata": {
        "colab": {
          "base_uri": "https://localhost:8080/"
        },
        "id": "7RCGGRUtXBXP",
        "outputId": "e8a88f7c-d76b-45e2-b305-7bafd8e7a8a5"
      },
      "execution_count": 7,
      "outputs": [
        {
          "output_type": "stream",
          "name": "stdout",
          "text": [
            "The sum of list Values is  293  and the average is  48.833333333333336\n"
          ]
        }
      ]
    }
  ]
}