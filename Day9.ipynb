{
  "nbformat": 4,
  "nbformat_minor": 0,
  "metadata": {
    "colab": {
      "provenance": [],
      "authorship_tag": "ABX9TyMPG0A2UFOff7FrclmMiY+c",
      "include_colab_link": true
    },
    "kernelspec": {
      "name": "python3",
      "display_name": "Python 3"
    },
    "language_info": {
      "name": "python"
    }
  },
  "cells": [
    {
      "cell_type": "markdown",
      "metadata": {
        "id": "view-in-github",
        "colab_type": "text"
      },
      "source": [
        "<a href=\"https://colab.research.google.com/github/karishmasd/Python-for-30-days/blob/main/Day9.ipynb\" target=\"_parent\"><img src=\"https://colab.research.google.com/assets/colab-badge.svg\" alt=\"Open In Colab\"/></a>"
      ]
    },
    {
      "cell_type": "markdown",
      "source": [
        "**Slicing and Joining**"
      ],
      "metadata": {
        "id": "wI9i9iKM_aNf"
      }
    },
    {
      "cell_type": "markdown",
      "source": [
        "#Slice"
      ],
      "metadata": {
        "id": "3EpHV47gCbaa"
      }
    },
    {
      "cell_type": "code",
      "execution_count": 2,
      "metadata": {
        "colab": {
          "base_uri": "https://localhost:8080/"
        },
        "id": "Y2M_fNXw-53_",
        "outputId": "f6dd5465-5bae-4be4-d0af-65f86be3c0d1"
      },
      "outputs": [
        {
          "output_type": "stream",
          "name": "stdout",
          "text": [
            "n\n"
          ]
        }
      ],
      "source": [
        "one_of_the_longest_word=\"Pneumonoultramicroscopicsilicovolcanoconiosis\"\n",
        "print(one_of_the_longest_word[1]) #should print the second word (indexing)"
      ]
    },
    {
      "cell_type": "code",
      "source": [
        "one_of_the_longest_word=\"Pneumonoultramicroscopicsilicovolcanoconiosis\"\n",
        "print(one_of_the_longest_word[1])\n",
        "print(one_of_the_longest_word[0:2])\n",
        "print(one_of_the_longest_word[5:])\n",
        "print(one_of_the_longest_word[:5])"
      ],
      "metadata": {
        "colab": {
          "base_uri": "https://localhost:8080/"
        },
        "id": "CWp_29lt__nm",
        "outputId": "4021fdaa-1097-4a1d-8fda-026b0608200b"
      },
      "execution_count": 3,
      "outputs": [
        {
          "output_type": "stream",
          "name": "stdout",
          "text": [
            "n\n",
            "Pn\n",
            "onoultramicroscopicsilicovolcanoconiosis\n",
            "Pneum\n"
          ]
        }
      ]
    },
    {
      "cell_type": "markdown",
      "source": [
        "When you specify an ending index, Python slices everything up to, but not including the ending index"
      ],
      "metadata": {
        "id": "xTGq9MEJArgU"
      }
    },
    {
      "cell_type": "code",
      "source": [
        "#If your index is negative, Python counts back from the end of the string instead of the beginning.\n",
        "print(one_of_the_longest_word[-1])\n",
        "print(one_of_the_longest_word[-4])\n",
        "print(one_of_the_longest_word[-19:])\n",
        "#If your index is beyond the end of the string, Python returns an empty string.\n",
        "print(one_of_the_longest_word[100:])"
      ],
      "metadata": {
        "colab": {
          "base_uri": "https://localhost:8080/"
        },
        "id": "39LsV5RhAw00",
        "outputId": "a6bc1530-ef8e-4a32-d5d6-de067c59f0d4"
      },
      "execution_count": 7,
      "outputs": [
        {
          "output_type": "stream",
          "name": "stdout",
          "text": [
            "s\n",
            "o\n",
            "licovolcanoconiosis\n",
            "\n"
          ]
        }
      ]
    },
    {
      "cell_type": "markdown",
      "source": [
        "An optional way to slice an index is by the stride argument, indicated by using a double colon. This allows you to skip over the corresponding number of characters in your index, or if you’re using a negative stride, the string prints backwards."
      ],
      "metadata": {
        "id": "WW0tVDZlB6Wn"
      }
    },
    {
      "cell_type": "code",
      "source": [
        "print(one_of_the_longest_word[::1])\n",
        "print(one_of_the_longest_word[::2])\n",
        "print(one_of_the_longest_word[1::2])\n",
        "print(one_of_the_longest_word[::-1])\n",
        "print(one_of_the_longest_word[::-2])"
      ],
      "metadata": {
        "colab": {
          "base_uri": "https://localhost:8080/"
        },
        "id": "hqLZyibQB7Cf",
        "outputId": "091c1b06-bad6-4709-e1fa-fa2df3c35d1a"
      },
      "execution_count": 12,
      "outputs": [
        {
          "output_type": "stream",
          "name": "stdout",
          "text": [
            "Pneumonoultramicroscopicsilicovolcanoconiosis\n",
            "Pemnutairsoislcvlaooiss\n",
            "nuoolrmcocpciioocncnoi\n",
            "sisoinoconaclovociliscipocsorcimartluonomuenP\n",
            "ssiooalvclsiosriatunmeP\n"
          ]
        }
      ]
    },
    {
      "cell_type": "markdown",
      "source": [
        "#Join"
      ],
      "metadata": {
        "id": "Zyo-okMFCeNr"
      }
    },
    {
      "cell_type": "markdown",
      "source": [
        "To join strings in Python, you use the plus operator, + , just as if you were adding two numbers together. The following example joins three strings together."
      ],
      "metadata": {
        "id": "1RO-ujEBCv1t"
      }
    },
    {
      "cell_type": "code",
      "source": [
        "print(\"Hi\"+\" \"+\"Viewer!\")"
      ],
      "metadata": {
        "colab": {
          "base_uri": "https://localhost:8080/"
        },
        "id": "ld_ZJfd9CZkD",
        "outputId": "2a9385a0-36d8-4c34-fef2-918cf7b716db"
      },
      "execution_count": 14,
      "outputs": [
        {
          "output_type": "stream",
          "name": "stdout",
          "text": [
            "Hi Viewer!\n"
          ]
        }
      ]
    },
    {
      "cell_type": "markdown",
      "source": [
        "You can also use the join() function, which is very useful when you want to concatenate elements from a list of strings with a specific delimiter."
      ],
      "metadata": {
        "id": "0ZqzikxSNEOq"
      }
    },
    {
      "cell_type": "code",
      "source": [
        "greetings=[\"Good\",\"Morning\",\"Everyone\",\"!\"]\n",
        "print(\" \".join(greetings))"
      ],
      "metadata": {
        "colab": {
          "base_uri": "https://localhost:8080/"
        },
        "id": "1lGa0nc6C4jC",
        "outputId": "7c59aada-d0a3-4db8-b2c1-21a30d16e6bb"
      },
      "execution_count": 19,
      "outputs": [
        {
          "output_type": "stream",
          "name": "stdout",
          "text": [
            "Good Morning Everyone !\n"
          ]
        }
      ]
    },
    {
      "cell_type": "code",
      "source": [
        "variable=\"hello\"\n",
        "print(variable+ \" WORLD\")"
      ],
      "metadata": {
        "colab": {
          "base_uri": "https://localhost:8080/"
        },
        "id": "uqyf9euaNe-1",
        "outputId": "fa75198b-2e87-4da3-af9a-e75a75c36927"
      },
      "execution_count": 22,
      "outputs": [
        {
          "output_type": "stream",
          "name": "stdout",
          "text": [
            "helloWORLD\n"
          ]
        }
      ]
    },
    {
      "cell_type": "markdown",
      "source": [
        "#Combing slice and join"
      ],
      "metadata": {
        "id": "DepSfqA9N-lu"
      }
    },
    {
      "cell_type": "code",
      "source": [
        "Karishma=\"Karishma\"\n",
        "area_code=\"(\"+Karishma[:6]+\")\"\n",
        "area_code"
      ],
      "metadata": {
        "colab": {
          "base_uri": "https://localhost:8080/",
          "height": 35
        },
        "id": "u8gDqoduN3IF",
        "outputId": "a691343a-d212-42cc-a617-e1bd757b0ad6"
      },
      "execution_count": 25,
      "outputs": [
        {
          "output_type": "execute_result",
          "data": {
            "text/plain": [
              "'(Karish)'"
            ],
            "application/vnd.google.colaboratory.intrinsic+json": {
              "type": "string"
            }
          },
          "metadata": {},
          "execution_count": 25
        }
      ]
    },
    {
      "cell_type": "code",
      "source": [
        "string=Karishma[1:6]\n",
        "string"
      ],
      "metadata": {
        "colab": {
          "base_uri": "https://localhost:8080/",
          "height": 35
        },
        "id": "4Y42U82eS-YT",
        "outputId": "3345c517-3a5c-46ad-8ad6-591cc105e363"
      },
      "execution_count": 27,
      "outputs": [
        {
          "output_type": "execute_result",
          "data": {
            "text/plain": [
              "'arish'"
            ],
            "application/vnd.google.colaboratory.intrinsic+json": {
              "type": "string"
            }
          },
          "metadata": {},
          "execution_count": 27
        }
      ]
    },
    {
      "cell_type": "code",
      "source": [],
      "metadata": {
        "id": "5dZAs4dSTt6E"
      },
      "execution_count": null,
      "outputs": []
    },
    {
      "cell_type": "code",
      "source": [
        "def format_phone(phonenum):\n",
        "  area_code = \"(\" + phonenum[:3] + \")\"\n",
        "  exchange = phonenum[3:6]\n",
        "  line = phonenum[-4:]\n",
        "  return area_code + \" \" + exchange + \"-\" + line\n",
        "print(format_phone(\"2025551212\")) # Outputs: (202) 555-1212"
      ],
      "metadata": {
        "colab": {
          "base_uri": "https://localhost:8080/"
        },
        "id": "1_IyCtH-TZ1Z",
        "outputId": "88a6b9b0-0dc0-4488-9889-ae6ff46b0297"
      },
      "execution_count": 28,
      "outputs": [
        {
          "output_type": "stream",
          "name": "stdout",
          "text": [
            "(202) 555-1212\n"
          ]
        }
      ]
    },
    {
      "cell_type": "code",
      "source": [
        "def indian_number(phonenumber):\n",
        "  if len(phonenumber)==12:\n",
        "    area_code=\"(\" + phonenumber[:2]+ \")\"\n",
        "    rest=phonenumber[2:]\n",
        "    return \"+\" +area_code +rest\n",
        "  elif len(phonenumber)==10:\n",
        "    rest=phonenumber\n",
        "    return \"+(91)\"+rest\n",
        "  else:\n",
        "    print(\"Invalid phone  number\")\n",
        "print(indian_number(\"919876543210\"))\n",
        "print(indian_number(\"9876543210\"))\n",
        "print(indian_number(\"987654321\"))"
      ],
      "metadata": {
        "colab": {
          "base_uri": "https://localhost:8080/"
        },
        "id": "tbP1E6qXT6Su",
        "outputId": "9696daba-0718-4289-a031-d8b68f619c9e"
      },
      "execution_count": 34,
      "outputs": [
        {
          "output_type": "stream",
          "name": "stdout",
          "text": [
            "+(91)9876543210\n",
            "(+91)9876543210\n",
            "Invalid phone  number\n",
            "None\n"
          ]
        }
      ]
    },
    {
      "cell_type": "markdown",
      "source": [
        "#Errors in for loops"
      ],
      "metadata": {
        "id": "o8W23WbHXC41"
      }
    },
    {
      "cell_type": "code",
      "source": [
        "def greet_friends(friends):\n",
        "    for friend in friends:\n",
        "        print(\"Hi \" + friend)\n",
        "\n",
        "greet_friends(['Taylor', 'Luisa', 'Jamaal', 'Eli'])"
      ],
      "metadata": {
        "colab": {
          "base_uri": "https://localhost:8080/"
        },
        "id": "ANqMoQQgVfft",
        "outputId": "47b56bdb-ca19-4cf1-8100-6fe6cbacf910"
      },
      "execution_count": 35,
      "outputs": [
        {
          "output_type": "stream",
          "name": "stdout",
          "text": [
            "Hi Taylor\n",
            "Hi Luisa\n",
            "Hi Jamaal\n",
            "Hi Eli\n"
          ]
        }
      ]
    },
    {
      "cell_type": "code",
      "source": [
        "def greet_friends(friends):\n",
        "    for friend in friends:\n",
        "        print(\"Hi \" + friend)\n",
        "\n",
        "greet_friends(\"Barry\")"
      ],
      "metadata": {
        "id": "YVqZPA7iW_m7"
      },
      "execution_count": null,
      "outputs": []
    },
    {
      "cell_type": "code",
      "source": [
        "list=[]\n",
        "for i in range(10):\n",
        "  list.append(i)\n",
        "print(list)\n"
      ],
      "metadata": {
        "colab": {
          "base_uri": "https://localhost:8080/"
        },
        "id": "D6Ti8JY9aPg3",
        "outputId": "4ff717f4-b3d7-45fc-859a-c3b58d05ba2e"
      },
      "execution_count": 36,
      "outputs": [
        {
          "output_type": "stream",
          "name": "stdout",
          "text": [
            "[0, 1, 2, 3, 4, 5, 6, 7, 8, 9]\n"
          ]
        }
      ]
    },
    {
      "cell_type": "code",
      "source": [
        "list=[i for i in range(10)]#oneliner\n",
        "print(list)"
      ],
      "metadata": {
        "colab": {
          "base_uri": "https://localhost:8080/"
        },
        "id": "h0eSad96adpF",
        "outputId": "6ed3a0e5-f43e-46f3-fdf3-8544a107c3fd"
      },
      "execution_count": 37,
      "outputs": [
        {
          "output_type": "stream",
          "name": "stdout",
          "text": [
            "[0, 1, 2, 3, 4, 5, 6, 7, 8, 9]\n"
          ]
        }
      ]
    },
    {
      "cell_type": "code",
      "source": [
        "print(\"*\"*8+ '\\n'  \"*\"*7  )"
      ],
      "metadata": {
        "colab": {
          "base_uri": "https://localhost:8080/"
        },
        "id": "Rdh6Iy8iatnB",
        "outputId": "04296619-0a52-437e-c273-8c199afb17c5"
      },
      "execution_count": 42,
      "outputs": [
        {
          "output_type": "stream",
          "name": "stdout",
          "text": [
            "********\n",
            "*\n",
            "*\n",
            "*\n",
            "*\n",
            "*\n",
            "*\n",
            "*\n",
            "*\n",
            "*\n",
            "*\n",
            "*\n",
            "*\n",
            "*\n"
          ]
        }
      ]
    },
    {
      "cell_type": "markdown",
      "source": [],
      "metadata": {
        "id": "rr8eMU_ObWfS"
      }
    }
  ]
}