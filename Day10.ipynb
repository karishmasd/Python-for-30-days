{
  "nbformat": 4,
  "nbformat_minor": 0,
  "metadata": {
    "colab": {
      "provenance": [],
      "authorship_tag": "ABX9TyNwR+tcwruEBHnYSqYItbD8",
      "include_colab_link": true
    },
    "kernelspec": {
      "name": "python3",
      "display_name": "Python 3"
    },
    "language_info": {
      "name": "python"
    }
  },
  "cells": [
    {
      "cell_type": "markdown",
      "metadata": {
        "id": "view-in-github",
        "colab_type": "text"
      },
      "source": [
        "<a href=\"https://colab.research.google.com/github/karishmasd/Python-for-30-days/blob/main/Day10.ipynb\" target=\"_parent\"><img src=\"https://colab.research.google.com/assets/colab-badge.svg\" alt=\"Open In Colab\"/></a>"
      ]
    },
    {
      "cell_type": "markdown",
      "source": [
        "#**Recursion**"
      ],
      "metadata": {
        "id": "b_05Ef086T35"
      }
    },
    {
      "cell_type": "code",
      "execution_count": 7,
      "metadata": {
        "colab": {
          "base_uri": "https://localhost:8080/"
        },
        "id": "X8utudRQ1VFG",
        "outputId": "6961100a-43cf-4d78-d4d2-2c36ceb62980"
      },
      "outputs": [
        {
          "output_type": "execute_result",
          "data": {
            "text/plain": [
              "24"
            ]
          },
          "metadata": {},
          "execution_count": 7
        }
      ],
      "source": [
        "def factorial(n):\n",
        "  if n<2:\n",
        "    return 1\n",
        "  return n*factorial(n-1)\n",
        "factorial(4)"
      ]
    },
    {
      "cell_type": "code",
      "source": [
        "def factorial(n):\n",
        "  print(\"Factorial called with \" + str(n))\n",
        "  if n < 2:\n",
        "    print(\"Returning 1\")\n",
        "    return 1\n",
        "  result = n * factorial(n-1)\n",
        "  print(\"Returning \" + str(result) + \" for factorial of \" + str(n))\n",
        "  return result\n",
        "\n",
        "factorial(4)"
      ],
      "metadata": {
        "colab": {
          "base_uri": "https://localhost:8080/"
        },
        "id": "4ihGHejF57o2",
        "outputId": "01759b3a-a3e0-4452-c9d9-88cb2a57a16c"
      },
      "execution_count": 3,
      "outputs": [
        {
          "output_type": "stream",
          "name": "stdout",
          "text": [
            "Factorial called with 4\n",
            "Factorial called with 3\n",
            "Factorial called with 2\n",
            "Factorial called with 1\n",
            "Returning 1\n",
            "Returning 2 for factorial of 2\n",
            "Returning 6 for factorial of 3\n",
            "Returning 24 for factorial of 4\n"
          ]
        },
        {
          "output_type": "execute_result",
          "data": {
            "text/plain": [
              "24"
            ]
          },
          "metadata": {},
          "execution_count": 3
        }
      ]
    },
    {
      "cell_type": "code",
      "source": [
        "def sum_positive(n):\n",
        "  if n<1:\n",
        "    return 0\n",
        "  return n+sum_positive(n-1)\n",
        "sum_positive(100)#n(n-1)/2"
      ],
      "metadata": {
        "colab": {
          "base_uri": "https://localhost:8080/"
        },
        "id": "p4BAQLJo9G0N",
        "outputId": "f85cb1e0-ac74-4b02-9d66-dd352df63448"
      },
      "execution_count": 5,
      "outputs": [
        {
          "output_type": "execute_result",
          "data": {
            "text/plain": [
              "5050"
            ]
          },
          "metadata": {},
          "execution_count": 5
        }
      ]
    },
    {
      "cell_type": "code",
      "source": [],
      "metadata": {
        "id": "avPICZXO9zpi"
      },
      "execution_count": null,
      "outputs": []
    }
  ]
}