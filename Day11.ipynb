{
  "nbformat": 4,
  "nbformat_minor": 0,
  "metadata": {
    "colab": {
      "provenance": [],
      "authorship_tag": "ABX9TyPcHpzRPQe+SPNquGuj7GC0",
      "include_colab_link": true
    },
    "kernelspec": {
      "name": "python3",
      "display_name": "Python 3"
    },
    "language_info": {
      "name": "python"
    }
  },
  "cells": [
    {
      "cell_type": "markdown",
      "metadata": {
        "id": "view-in-github",
        "colab_type": "text"
      },
      "source": [
        "<a href=\"https://colab.research.google.com/github/karishmasd/Python-for-30-days/blob/main/Day11.ipynb\" target=\"_parent\"><img src=\"https://colab.research.google.com/assets/colab-badge.svg\" alt=\"Open In Colab\"/></a>"
      ]
    },
    {
      "cell_type": "code",
      "execution_count": null,
      "metadata": {
        "colab": {
          "base_uri": "https://localhost:8080/"
        },
        "id": "_ez1S57utuMh",
        "outputId": "1e0596b3-cf94-49de-8f75-548bc3a777ca"
      },
      "outputs": [
        {
          "output_type": "stream",
          "name": "stdout",
          "text": [
            "15 10 5 "
          ]
        }
      ],
      "source": [
        "number = 15 # Initialize the variable\n",
        "while number>0:\n",
        "    print(number, end=\" \") # Complete the while loop condition\n",
        "    number -=5 # Increment the variable\n",
        "\n",
        "# Should print 15 10 5"
      ]
    },
    {
      "cell_type": "code",
      "source": [
        "x = 1\n",
        "sum = 0\n",
        "while x <= 10:\n",
        "    sum += x\n",
        "    x += 1\n",
        "print(sum)"
      ],
      "metadata": {
        "colab": {
          "base_uri": "https://localhost:8080/"
        },
        "id": "aAUuVZMEwAYL",
        "outputId": "9f2d6277-cc7b-4144-9207-2a177562474c"
      },
      "execution_count": null,
      "outputs": [
        {
          "output_type": "stream",
          "name": "stdout",
          "text": [
            "55\n"
          ]
        }
      ]
    },
    {
      "cell_type": "code",
      "source": [
        "def digits(n):\n",
        "    count = 0\n",
        "    if n == 0:\n",
        "      count += 1\n",
        "    while n>0:\n",
        "      print(n)\n",
        "      n=n//10\n",
        "      print(n)\n",
        "      count+=1\n",
        "\n",
        "    return count\n",
        "\n",
        "print(digits(25))   # Should print 2\n",
        "print(digits(144))  # Should print 3\n",
        "print(digits(1000)) # Should print 4\n",
        "print(digits(0))    # Should print 1"
      ],
      "metadata": {
        "colab": {
          "base_uri": "https://localhost:8080/"
        },
        "id": "0UQ8b_iD29t_",
        "outputId": "5966ee34-bf18-4a3e-f9e5-29c46fb99975"
      },
      "execution_count": null,
      "outputs": [
        {
          "output_type": "stream",
          "name": "stdout",
          "text": [
            "25\n",
            "2\n",
            "2\n",
            "0\n",
            "2\n",
            "144\n",
            "14\n",
            "14\n",
            "1\n",
            "2\n",
            "1000\n",
            "100\n",
            "100\n",
            "10\n",
            "10\n",
            "1\n",
            "3\n",
            "1\n"
          ]
        }
      ]
    },
    {
      "cell_type": "markdown",
      "source": [
        "#Data Structures"
      ],
      "metadata": {
        "id": "udxMwcExK3xz"
      }
    },
    {
      "cell_type": "code",
      "source": [
        "name= \"Karishma\"# can write strings with both \"\"and''\n",
        "element='Gold '\n",
        "print(name+\" is \"+element)"
      ],
      "metadata": {
        "colab": {
          "base_uri": "https://localhost:8080/"
        },
        "id": "YafHQ5f0K9Vf",
        "outputId": "37718874-970a-4b8b-8ddf-8d9ef62f168e"
      },
      "execution_count": null,
      "outputs": [
        {
          "output_type": "stream",
          "name": "stdout",
          "text": [
            "Karishma is Gold \n"
          ]
        }
      ]
    },
    {
      "cell_type": "code",
      "source": [
        "#name=\"Jil'this will throw an error\n",
        "pet=''\n",
        "print(name+\" owns \"+pet)\n",
        "len(pet)"
      ],
      "metadata": {
        "colab": {
          "base_uri": "https://localhost:8080/"
        },
        "id": "fAwz_FaILg0b",
        "outputId": "5c5b6551-cc99-4e6b-c995-5ca0a94e04f3"
      },
      "execution_count": null,
      "outputs": [
        {
          "output_type": "stream",
          "name": "stdout",
          "text": [
            "Karishma owns \n"
          ]
        },
        {
          "output_type": "execute_result",
          "data": {
            "text/plain": [
              "0"
            ]
          },
          "metadata": {},
          "execution_count": 7
        }
      ]
    },
    {
      "cell_type": "code",
      "source": [
        "\"Habibi\"*3"
      ],
      "metadata": {
        "colab": {
          "base_uri": "https://localhost:8080/",
          "height": 35
        },
        "id": "LhdwSO3tLw1I",
        "outputId": "9baa9a30-b497-44c0-c076-d168ff95f440"
      },
      "execution_count": null,
      "outputs": [
        {
          "output_type": "execute_result",
          "data": {
            "text/plain": [
              "'HabibiHabibiHabibi'"
            ],
            "application/vnd.google.colaboratory.intrinsic+json": {
              "type": "string"
            }
          },
          "metadata": {},
          "execution_count": 8
        }
      ]
    },
    {
      "cell_type": "markdown",
      "source": [
        "#Parts of a string\n"
      ],
      "metadata": {
        "id": "5WRd7XqH4crN"
      }
    },
    {
      "cell_type": "code",
      "source": [
        "name=\"Habibi\"\n",
        "print(name[1])\n",
        "print(name[0])\n",
        "print(name[-1])\n",
        "print(name[-4])\n",
        "print(name[0:3])\n",
        "print(name[1:4])#doesnot include the 4th index"
      ],
      "metadata": {
        "colab": {
          "base_uri": "https://localhost:8080/"
        },
        "id": "9isIkOCO3wBD",
        "outputId": "80890cd2-7bb7-4700-bd8d-b50e547b4a85"
      },
      "execution_count": 9,
      "outputs": [
        {
          "output_type": "stream",
          "name": "stdout",
          "text": [
            "a\n",
            "H\n",
            "i\n",
            "b\n",
            "Hab\n",
            "abi\n"
          ]
        }
      ]
    },
    {
      "cell_type": "code",
      "source": [
        "fruit=\"Pineapple\"\n",
        "print(fruit[:2])\n",
        "print(fruit[2:])\n",
        "print(fruit[:])\n",
        "print(fruit[1:-1])\n",
        "print(fruit[:2]+(fruit[2:]))"
      ],
      "metadata": {
        "colab": {
          "base_uri": "https://localhost:8080/"
        },
        "id": "oUzoeSoQ4M_S",
        "outputId": "9543efb6-d8c9-4c06-d73d-811aeddf41ee"
      },
      "execution_count": 14,
      "outputs": [
        {
          "output_type": "stream",
          "name": "stdout",
          "text": [
            "Pi\n",
            "neapple\n",
            "Pineapple\n",
            "ineappl\n",
            "Pineapple\n"
          ]
        }
      ]
    }
  ]
}