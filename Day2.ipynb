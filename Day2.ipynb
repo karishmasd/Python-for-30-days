{
  "nbformat": 4,
  "nbformat_minor": 0,
  "metadata": {
    "colab": {
      "provenance": [],
      "authorship_tag": "ABX9TyMLikSYsmXaRH8/OFErBcZC",
      "include_colab_link": true
    },
    "kernelspec": {
      "name": "python3",
      "display_name": "Python 3"
    },
    "language_info": {
      "name": "python"
    }
  },
  "cells": [
    {
      "cell_type": "markdown",
      "metadata": {
        "id": "view-in-github",
        "colab_type": "text"
      },
      "source": [
        "<a href=\"https://colab.research.google.com/github/karishmasd/Python-for-30-days/blob/main/Day2.ipynb\" target=\"_parent\"><img src=\"https://colab.research.google.com/assets/colab-badge.svg\" alt=\"Open In Colab\"/></a>"
      ]
    },
    {
      "cell_type": "markdown",
      "source": [
        "**Day 1 Progress Report**\n",
        "\n",
        "- **First Python Code:** Successfully wrote and executed my first Python code!\n",
        "- **Explored Basic Concepts:**\n",
        "  - Learned to use `print()` for displaying output.\n",
        "  - Performed arithmetic operations, understanding the order of execution in Python using PEDMAS (Parentheses, Exponents, Division/Multiplication, Addition/Subtraction).\n",
        "- **Naming Rules:**\n",
        "  - Understood the rules for naming variables to ensure clarity and avoid errors.\n",
        "- **Data Types:**\n",
        "  - Gained knowledge of fundamental data types in Python.\n",
        "  - Used `type()` to identify the data type of objects.\n",
        "- **Type Conversion:**\n",
        "  - Understood implicit (automatic) and explicit (manual) type conversions using functions like `int()`, `float()`, `str()`.\n",
        "---\n",
        "DAY 2!"
      ],
      "metadata": {
        "id": "GVmkGJTPmJBw"
      }
    },
    {
      "cell_type": "markdown",
      "source": [
        "Write a Python program that prompts the user to enter their year of birth, calculates their current age based on the current year (2024), and displays the result in a clear and formatted message using the print() function. Additionally, ensure that the program explicitly converts the input to an integer and handles cases where the entered birth year is greater than 2024 by displaying an appropriate error message."
      ],
      "metadata": {
        "id": "mCnMpv76pVT6"
      }
    },
    {
      "cell_type": "code",
      "execution_count": null,
      "metadata": {
        "colab": {
          "base_uri": "https://localhost:8080/"
        },
        "id": "jle4BU7GmGyn",
        "outputId": "3b84da03-e534-442e-b755-b86b019e3b25"
      },
      "outputs": [
        {
          "output_type": "stream",
          "name": "stdout",
          "text": [
            "Enter your year of birth: 1970\n",
            "Your age is :54\n"
          ]
        }
      ],
      "source": [
        "year_of_birth=int(input(\"Enter your year of birth: \"))\n",
        "if year_of_birth>2024:\n",
        "  print(\"Invalid birth year\")\n",
        "else:\n",
        "  print(\"Your age is :\" + str(2024-year_of_birth))"
      ]
    },
    {
      "cell_type": "code",
      "source": [
        "current_year=int(input(\"Enter the current year: \"))\n",
        "year_of_birth=int(input(\"Enter your birth year: \"))\n",
        "if year_of_birth>current_year:\n",
        "  print(\"Invalid birth year\")\n",
        "else:\n",
        "  print(\"Your age is :\" + str(current_year-year_of_birth))"
      ],
      "metadata": {
        "colab": {
          "base_uri": "https://localhost:8080/"
        },
        "id": "VCUfj0gPqxuD",
        "outputId": "d71b8e9b-3e59-4f61-8d74-d2a8a26e0833"
      },
      "execution_count": null,
      "outputs": [
        {
          "output_type": "stream",
          "name": "stdout",
          "text": [
            "Enter the current year: 1860\n",
            "Enter your birth year: 1999\n",
            "Invalid birth year\n"
          ]
        }
      ]
    },
    {
      "cell_type": "markdown",
      "source": [
        "\n",
        "In this scenario, two friends are eating dinner at a restaurant. The bill comes in the amount of 47.28 dollars. The friends decide to split the bill evenly between them, after adding 15% tip for the service. Calculate the tip, the total amount to pay, and each friend's share, then output a message saying \"Each person needs to pay: \" followed by the resulting number."
      ],
      "metadata": {
        "id": "QJ6gBSUgsoQC"
      }
    },
    {
      "cell_type": "code",
      "source": [
        "No_of_friends=int(input(\"Enter number of friends: \"))\n",
        "Bill=float(input(\"Bill amount: \"))\n",
        "Tip=int(input(\"Tip percentage: \"))\n",
        "total_amount_to_pay = Bill+ Tip*Bill/100\n",
        "share=total_amount_to_pay/No_of_friends\n",
        "print(\"Each person  needs to pay: $\"+str(share))"
      ],
      "metadata": {
        "colab": {
          "base_uri": "https://localhost:8080/"
        },
        "id": "tnqfNI8dspIN",
        "outputId": "1bf0e55a-8a84-45ab-e4a9-ccea85c87572"
      },
      "execution_count": null,
      "outputs": [
        {
          "output_type": "stream",
          "name": "stdout",
          "text": [
            "Enter number of friends: 2\n",
            "Bill amount: 47.28\n",
            "Tip percentage: 15\n",
            "Each person  needs to pay: $27.186\n"
          ]
        }
      ]
    },
    {
      "cell_type": "markdown",
      "source": [
        "**Functions**"
      ],
      "metadata": {
        "id": "RJzeBId-u-sB"
      }
    },
    {
      "cell_type": "code",
      "source": [
        "def greet(name):\n",
        "  print(\"Hello, \"+name+\"!\")\n",
        "greet(\"Viewer\")\n",
        "greet(\"Everyone\")"
      ],
      "metadata": {
        "colab": {
          "base_uri": "https://localhost:8080/"
        },
        "id": "Ybsi_Sa6vFUV",
        "outputId": "df5375bb-75c0-4c18-e230-94b20c105252"
      },
      "execution_count": null,
      "outputs": [
        {
          "output_type": "stream",
          "name": "stdout",
          "text": [
            "Hello, Viewer!\n",
            "Hello, Everyone!\n"
          ]
        }
      ]
    },
    {
      "cell_type": "code",
      "source": [
        "def greet(name):\n",
        "  print(\"Hello, \"+name+\"!\")\n",
        "result=greet(\"Viewer\")\n",
        "result"
      ],
      "metadata": {
        "colab": {
          "base_uri": "https://localhost:8080/"
        },
        "id": "xAg1aM7-pqGA",
        "outputId": "96acccf2-23ac-4338-8a9d-4a20283c1ccd"
      },
      "execution_count": null,
      "outputs": [
        {
          "output_type": "stream",
          "name": "stdout",
          "text": [
            "Hello, Viewer!\n"
          ]
        }
      ]
    },
    {
      "cell_type": "code",
      "source": [
        "def greet(name):\n",
        "  print(\"Hello, \"+name+\"!\")\n",
        "result=greet(\"Viewer\")\n",
        "print(result) #because there is no return values"
      ],
      "metadata": {
        "colab": {
          "base_uri": "https://localhost:8080/"
        },
        "id": "VYeOM5Pcpvh_",
        "outputId": "5ecded90-b24c-4611-afd0-fbccb8db77f1"
      },
      "execution_count": null,
      "outputs": [
        {
          "output_type": "stream",
          "name": "stdout",
          "text": [
            "Hello, Viewer!\n",
            "None\n"
          ]
        }
      ]
    },
    {
      "cell_type": "code",
      "source": [
        "#similar thing i can write in another form\n",
        "list=[\"Viewer\",\"Everyone\"]\n",
        "for name in list:\n",
        "  print(\"Hello \"+name+\"!\")"
      ],
      "metadata": {
        "colab": {
          "base_uri": "https://localhost:8080/"
        },
        "id": "YMB1QYVcyeEi",
        "outputId": "93c8fb68-89d3-4cfe-a99e-48afe64e8d8a"
      },
      "execution_count": null,
      "outputs": [
        {
          "output_type": "stream",
          "name": "stdout",
          "text": [
            "Hello Viewer!\n",
            "Hello Everyone!\n"
          ]
        }
      ]
    },
    {
      "cell_type": "code",
      "source": [
        "list=[\"b\",\"a\",\"x\",\"y\",\"z\"]\n",
        "def greet(name):\n",
        "  print(\"How are you doing \"+name+\" ?\")\n",
        "for name in list:\n",
        "  greet(name)"
      ],
      "metadata": {
        "colab": {
          "base_uri": "https://localhost:8080/"
        },
        "id": "iC9Ida4cy8Hd",
        "outputId": "a58fd297-fcb7-4e05-fae0-4edb1999215c"
      },
      "execution_count": null,
      "outputs": [
        {
          "output_type": "stream",
          "name": "stdout",
          "text": [
            "How are you doing b ?\n",
            "How are you doing a ?\n",
            "How are you doing x ?\n",
            "How are you doing y ?\n",
            "How are you doing z ?\n"
          ]
        }
      ]
    },
    {
      "cell_type": "code",
      "source": [
        "def info(college,year,grade):\n",
        "  print(\"I am Class \" + str(year)+ \" from \" + college+ \" college with a grade of \"+str(grade) )\n",
        "info(\"xyz\",1970,8.28)"
      ],
      "metadata": {
        "colab": {
          "base_uri": "https://localhost:8080/"
        },
        "id": "CE2O-NTgv5V1",
        "outputId": "fa694e57-d1cc-4c0c-ad71-70fb6e640c4d"
      },
      "execution_count": null,
      "outputs": [
        {
          "output_type": "stream",
          "name": "stdout",
          "text": [
            "I am Class 1970 from xyz college with a grade of 8.28\n"
          ]
        }
      ]
    },
    {
      "cell_type": "markdown",
      "source": [
        "**In built functions like print(), type(), str(), sorted(), max(),min()**"
      ],
      "metadata": {
        "id": "FzDJGjYDAaV8"
      }
    },
    {
      "cell_type": "code",
      "source": [
        "list=[0,1,19,100,2,6,87,345]\n",
        "print(type(list))\n",
        "print(sorted(list))\n",
        "print(\"The maximum number in the list is:\",str(max(list)))\n",
        "print(\"The minmum number in the list is:\",str(min(list)))"
      ],
      "metadata": {
        "colab": {
          "base_uri": "https://localhost:8080/"
        },
        "id": "pRoXRg2C8CzB",
        "outputId": "f7920c52-936e-476e-d1cb-3c82525852b5"
      },
      "execution_count": null,
      "outputs": [
        {
          "output_type": "stream",
          "name": "stdout",
          "text": [
            "<class 'list'>\n",
            "[0, 1, 2, 6, 19, 87, 100, 345]\n",
            "The maximum number in the list is: 345\n",
            "The minmum number in the list is: 0\n"
          ]
        }
      ]
    },
    {
      "cell_type": "code",
      "source": [
        "list=[\"a\",\"abs\",\"hi\",\"karishma\",\"python\",\"day\",\"two\"]\n",
        "sorted(list)\n",
        "# cannot use for the mixed datatypes"
      ],
      "metadata": {
        "colab": {
          "base_uri": "https://localhost:8080/"
        },
        "id": "5IT0H4e38NZN",
        "outputId": "52ff17c4-6166-421e-f3ca-5b85cbe1a6f8"
      },
      "execution_count": null,
      "outputs": [
        {
          "output_type": "execute_result",
          "data": {
            "text/plain": [
              "['a', 'abs', 'day', 'hi', 'karishma', 'python', 'two']"
            ]
          },
          "metadata": {},
          "execution_count": 30
        }
      ]
    },
    {
      "cell_type": "code",
      "source": [
        "#Returning values\n",
        "def area_of_triangle(base,height):\n",
        "  return 0.5*base*height\n",
        "area_1= area_of_triangle(10,20)\n",
        "area_2=area_of_triangle(20,49)\n",
        "sum=area_1+area_2\n",
        "print(sum)"
      ],
      "metadata": {
        "colab": {
          "base_uri": "https://localhost:8080/"
        },
        "id": "1PAQtdA-lsmk",
        "outputId": "e88e6978-2d5d-4ce1-8e99-fb23c1672cd4"
      },
      "execution_count": null,
      "outputs": [
        {
          "output_type": "stream",
          "name": "stdout",
          "text": [
            "590.0\n"
          ]
        }
      ]
    },
    {
      "cell_type": "markdown",
      "source": [
        "Write a function is_palindrome(s) that checks if a given string s is a palindrome. A palindrome reads the same forwards and backwards (e.g., \"radar\", \"level\")."
      ],
      "metadata": {
        "id": "pBcdIPGjmqGe"
      }
    },
    {
      "cell_type": "code",
      "source": [
        "def is_palindrome(s):\n",
        "  return s==s[::-1]  #this creates a reverse string for example \"hello\" would be \"olleh\"\n",
        "print(is_palindrome(\"Karishma\",))\n",
        "print( is_palindrome(\"radar\"))\n"
      ],
      "metadata": {
        "colab": {
          "base_uri": "https://localhost:8080/"
        },
        "id": "GEun5DsNmr7d",
        "outputId": "575e96f7-24ad-4d7f-ce4f-401483f032b1"
      },
      "execution_count": null,
      "outputs": [
        {
          "output_type": "stream",
          "name": "stdout",
          "text": [
            "False\n",
            "True\n"
          ]
        }
      ]
    },
    {
      "cell_type": "code",
      "source": [
        "def convert_seconds(seconds):\n",
        "  hours=seconds//3600\n",
        "  minutes=seconds%3600//60\n",
        "  remaining_seconds=seconds%60\n",
        "  return hours,minutes,remaining_seconds\n",
        "print(convert_seconds(3711))"
      ],
      "metadata": {
        "colab": {
          "base_uri": "https://localhost:8080/"
        },
        "id": "llvUqwlyoV5e",
        "outputId": "566bd551-1417-4418-d954-75639e07b99f"
      },
      "execution_count": null,
      "outputs": [
        {
          "output_type": "stream",
          "name": "stdout",
          "text": [
            "(1, 1, 51)\n"
          ]
        }
      ]
    },
    {
      "cell_type": "code",
      "source": [
        "#Lucky number\n",
        "name=\"Kay\"\n",
        "luckynumber= len(name)*9//5\n",
        "print(\"Hello \"+name+\" your lucky number is \"+str(luckynumber))\n",
        "name=\"Karishma\"\n",
        "luckynumber= len(name)*9//5\n",
        "print(\"Hello \"+name+\" your lucky number is \"+str(luckynumber))"
      ],
      "metadata": {
        "colab": {
          "base_uri": "https://localhost:8080/"
        },
        "id": "Zzcr42R1qlU9",
        "outputId": "13717b00-3441-4ca2-98c2-e617c3c6234d"
      },
      "execution_count": null,
      "outputs": [
        {
          "output_type": "stream",
          "name": "stdout",
          "text": [
            "Hello Kay your lucky number is 5\n",
            "Hello Karishma your lucky number is 14\n"
          ]
        }
      ]
    },
    {
      "cell_type": "code",
      "source": [
        "def Lucky_number(name):\n",
        "  luckynumber= len(name)*9//5\n",
        "  print(\"Hello \"+name+\" your lucky number is \"+str(luckynumber))\n",
        "Lucky_number(\"Karishma\")\n",
        "Lucky_number(\"Kay\")\n",
        "Nameslist=[\"vxahsvd\",\"jhsdxsgd\",\"vera\"]\n",
        "for name in Nameslist:\n",
        "  Lucky_number(name)"
      ],
      "metadata": {
        "colab": {
          "base_uri": "https://localhost:8080/"
        },
        "id": "Fd147-bJrFAX",
        "outputId": "d96741e2-8f7f-4f03-b2be-9ab4fe2804bf"
      },
      "execution_count": null,
      "outputs": [
        {
          "output_type": "stream",
          "name": "stdout",
          "text": [
            "Hello Karishma your lucky number is 14\n",
            "Hello Kay your lucky number is 5\n",
            "Hello vxahsvd your lucky number is 12\n",
            "Hello jhsdxsgd your lucky number is 14\n",
            "Hello vera your lucky number is 7\n"
          ]
        }
      ]
    },
    {
      "cell_type": "markdown",
      "source": [
        "Write a Python program that performs basic arithmetic operations. Your calculator should be able to:\n",
        "\n",
        "Add two numbers\n",
        "Subtract two numbers\n",
        "Multiply two numbers\n",
        "Divide two numbers (with error handling for division by zero)"
      ],
      "metadata": {
        "id": "bsqgPr4qS9Hk"
      }
    },
    {
      "cell_type": "code",
      "source": [
        "first_number=int(input(\"Enter first number: \"))\n",
        "second_number=int(input(\"Enter second number: \"))\n",
        "def add(first_number,second_number):\n",
        "  return first_number+second_number\n",
        "def subtract(first_number,second_number):\n",
        "  return first_number-second_number\n",
        "def multiply(first_number,second_number):\n",
        "  return first_number*second_number\n",
        "def divide(first_number,second_number):\n",
        "  if second_number!=0:\n",
        "   return first_number/second_number\n",
        "  else:\n",
        "   return  \"Error: Division by zero is not allowed!\"\n",
        "function=input(\"Enter the function you want to perform (add,subtract,multiply,divide): \")\n",
        "if function==\"add\":\n",
        "  print(add(first_number,second_number))\n",
        "elif function==\"subtract\":\n",
        "  print(subtract(first_number,second_number))\n",
        "elif function==\"multiply\":\n",
        "  print(multiply(first_number,second_number))\n",
        "elif function==\"divide\":\n",
        "  print(divide(first_number,second_number))\n",
        "else:\n",
        "  print(\"Invalid input\")\n",
        "\n"
      ],
      "metadata": {
        "colab": {
          "base_uri": "https://localhost:8080/"
        },
        "id": "mLlcPi_RTHTo",
        "outputId": "faa62d2c-db76-4050-dd88-12a459b1929a"
      },
      "execution_count": null,
      "outputs": [
        {
          "output_type": "stream",
          "name": "stdout",
          "text": [
            "Enter first number: 198886\n",
            "Enter second number: 2\n",
            "Enter the function you want to perform (add,subtract,multiply,divide): multiply\n",
            "397772\n"
          ]
        }
      ]
    },
    {
      "cell_type": "code",
      "source": [
        "def area_of_circle(radius):\n",
        "  return 3.14*radius**2\n",
        "area_of_circle(134)"
      ],
      "metadata": {
        "colab": {
          "base_uri": "https://localhost:8080/"
        },
        "id": "xAklwuhmTPa5",
        "outputId": "ec9f3bbe-dc53-496a-8358-e2ec79f082ea"
      },
      "execution_count": null,
      "outputs": [
        {
          "output_type": "execute_result",
          "data": {
            "text/plain": [
              "56381.840000000004"
            ]
          },
          "metadata": {},
          "execution_count": 17
        }
      ]
    }
  ]
}