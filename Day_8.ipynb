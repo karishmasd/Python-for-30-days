{
  "nbformat": 4,
  "nbformat_minor": 0,
  "metadata": {
    "colab": {
      "provenance": [],
      "authorship_tag": "ABX9TyMZVJx+xWxErEYugtWn+kEQ",
      "include_colab_link": true
    },
    "kernelspec": {
      "name": "python3",
      "display_name": "Python 3"
    },
    "language_info": {
      "name": "python"
    }
  },
  "cells": [
    {
      "cell_type": "markdown",
      "metadata": {
        "id": "view-in-github",
        "colab_type": "text"
      },
      "source": [
        "<a href=\"https://colab.research.google.com/github/karishmasd/Python-for-30-days/blob/main/Day_8.ipynb\" target=\"_parent\"><img src=\"https://colab.research.google.com/assets/colab-badge.svg\" alt=\"Open In Colab\"/></a>"
      ]
    },
    {
      "cell_type": "code",
      "execution_count": null,
      "metadata": {
        "colab": {
          "base_uri": "https://localhost:8080/"
        },
        "id": "avcIdzJWrc0H",
        "outputId": "9fb6aea6-0494-42cf-81ba-6eb513923168"
      },
      "outputs": [
        {
          "output_type": "stream",
          "name": "stdout",
          "text": [
            "0\n",
            "1\n",
            "4\n",
            "9\n",
            "16\n"
          ]
        }
      ],
      "source": [
        "for i in range (5):\n",
        "  print(i**2)"
      ]
    },
    {
      "cell_type": "code",
      "source": [
        "for i in range(1,5):\n",
        "  print(i)"
      ],
      "metadata": {
        "colab": {
          "base_uri": "https://localhost:8080/"
        },
        "id": "aFG1ibh2z1x7",
        "outputId": "1e0d84b2-e4c2-4473-df62-80faacedee39"
      },
      "execution_count": null,
      "outputs": [
        {
          "output_type": "stream",
          "name": "stdout",
          "text": [
            "1\n",
            "2\n",
            "3\n",
            "4\n"
          ]
        }
      ]
    },
    {
      "cell_type": "code",
      "source": [
        "def square():\n",
        "  number=int(input(\"Enter a number : \"))\n",
        "  sum=0\n",
        "  for i in range(number+1):\n",
        "    sum=sum+i**2\n",
        "  print(\"The sum of the square of first \",(number),\"numbers is  \",sum)\n",
        "square()"
      ],
      "metadata": {
        "colab": {
          "base_uri": "https://localhost:8080/"
        },
        "id": "IVZZweeLsuEC",
        "outputId": "6c4bb384-b371-44de-e394-e5a771af75d1"
      },
      "execution_count": null,
      "outputs": [
        {
          "output_type": "stream",
          "name": "stdout",
          "text": [
            "Enter a number : 6\n",
            "The sum of the square of first  6 numbers is   91\n"
          ]
        }
      ]
    },
    {
      "cell_type": "code",
      "source": [
        "product=1\n",
        "for i in range(1,10):#i dont want to start with zero i want to start with 1 so range(1,10)\n",
        "  product=product*i\n",
        "print(product)"
      ],
      "metadata": {
        "colab": {
          "base_uri": "https://localhost:8080/"
        },
        "id": "IdlN-as7wD9P",
        "outputId": "88cda1f8-ca42-4bcc-ee4d-ed679d611a8c"
      },
      "execution_count": null,
      "outputs": [
        {
          "output_type": "stream",
          "name": "stdout",
          "text": [
            "362880\n"
          ]
        }
      ]
    },
    {
      "cell_type": "code",
      "source": [
        "def to_celsicus(x):\n",
        "  return (x-32)*5/9\n",
        "for i in range(10):\n",
        "  print(i,to_celsicus(i))"
      ],
      "metadata": {
        "colab": {
          "base_uri": "https://localhost:8080/"
        },
        "id": "h-OaDVAyw-Xw",
        "outputId": "26571f5f-0730-4df5-dff1-70823d6aed6b"
      },
      "execution_count": null,
      "outputs": [
        {
          "output_type": "stream",
          "name": "stdout",
          "text": [
            "0 -17.77777777777778\n",
            "1 -17.22222222222222\n",
            "2 -16.666666666666668\n",
            "3 -16.11111111111111\n",
            "4 -15.555555555555555\n",
            "5 -15.0\n",
            "6 -14.444444444444445\n",
            "7 -13.88888888888889\n",
            "8 -13.333333333333334\n",
            "9 -12.777777777777779\n"
          ]
        }
      ]
    },
    {
      "cell_type": "code",
      "source": [
        "def to_celsicus(x):\n",
        "  return (x-32)*5/9\n",
        "for i in range(1,100,10):#start , end , period\n",
        "  print(i,to_celsicus(i))"
      ],
      "metadata": {
        "colab": {
          "base_uri": "https://localhost:8080/"
        },
        "id": "5NcRguhRxb3c",
        "outputId": "18fc8cdb-1c88-4b90-9a76-c7ece82a9041"
      },
      "execution_count": null,
      "outputs": [
        {
          "output_type": "stream",
          "name": "stdout",
          "text": [
            "1 -17.22222222222222\n",
            "11 -11.666666666666666\n",
            "21 -6.111111111111111\n",
            "31 -0.5555555555555556\n",
            "41 5.0\n",
            "51 10.555555555555555\n",
            "61 16.11111111111111\n",
            "71 21.666666666666668\n",
            "81 27.22222222222222\n",
            "91 32.77777777777778\n"
          ]
        }
      ]
    },
    {
      "cell_type": "code",
      "source": [
        "for i in range(2,2**10,154):\n",
        "  print(i)"
      ],
      "metadata": {
        "colab": {
          "base_uri": "https://localhost:8080/"
        },
        "id": "P-tPxmoVzTfR",
        "outputId": "e5f9f2f8-3e7a-4c74-cefe-8594edb02979"
      },
      "execution_count": null,
      "outputs": [
        {
          "output_type": "stream",
          "name": "stdout",
          "text": [
            "2\n",
            "156\n",
            "310\n",
            "464\n",
            "618\n",
            "772\n",
            "926\n"
          ]
        }
      ]
    },
    {
      "cell_type": "markdown",
      "source": [
        "# **Nested for loop**"
      ],
      "metadata": {
        "id": "uz0K4f3A0pD_"
      }
    },
    {
      "cell_type": "code",
      "source": [
        "for left in range(7):\n",
        "  for right in range(left,7):\n",
        "    print(\"[\",str(left),\"|\",str(right),\"]\",end=\" \")\n",
        "  print()"
      ],
      "metadata": {
        "id": "5ngEfi3OzZm3",
        "colab": {
          "base_uri": "https://localhost:8080/"
        },
        "outputId": "1ee019ff-8870-4eaa-c02b-caec3834f0ab"
      },
      "execution_count": null,
      "outputs": [
        {
          "output_type": "stream",
          "name": "stdout",
          "text": [
            "[ 0 | 0 ] [ 0 | 1 ] [ 0 | 2 ] [ 0 | 3 ] [ 0 | 4 ] [ 0 | 5 ] [ 0 | 6 ] \n",
            "[ 1 | 1 ] [ 1 | 2 ] [ 1 | 3 ] [ 1 | 4 ] [ 1 | 5 ] [ 1 | 6 ] \n",
            "[ 2 | 2 ] [ 2 | 3 ] [ 2 | 4 ] [ 2 | 5 ] [ 2 | 6 ] \n",
            "[ 3 | 3 ] [ 3 | 4 ] [ 3 | 5 ] [ 3 | 6 ] \n",
            "[ 4 | 4 ] [ 4 | 5 ] [ 4 | 6 ] \n",
            "[ 5 | 5 ] [ 5 | 6 ] \n",
            "[ 6 | 6 ] \n"
          ]
        }
      ]
    },
    {
      "cell_type": "code",
      "source": [
        "teams = [\"A\",\"B\",\"C\",\"D\"]\n",
        "for home_team in teams:\n",
        "  for away_team in teams:\n",
        "    if home_team!=away_team:\n",
        "      print(home_team,\"vs\",away_team)"
      ],
      "metadata": {
        "colab": {
          "base_uri": "https://localhost:8080/"
        },
        "id": "WnDEL1H581ZG",
        "outputId": "d6d8141b-5e2c-4c46-eae9-e0c18f771d23"
      },
      "execution_count": null,
      "outputs": [
        {
          "output_type": "stream",
          "name": "stdout",
          "text": [
            "A vs B\n",
            "A vs C\n",
            "A vs D\n",
            "B vs A\n",
            "B vs C\n",
            "B vs D\n",
            "C vs A\n",
            "C vs B\n",
            "C vs D\n",
            "D vs A\n",
            "D vs B\n",
            "D vs C\n"
          ]
        }
      ]
    },
    {
      "cell_type": "code",
      "source": [
        "string =\"Today is the 8th day of challenge i.e 15-12-2024 \"\n",
        "for index,i in  enumerate(string):\n",
        "  print(index,i)"
      ],
      "metadata": {
        "colab": {
          "base_uri": "https://localhost:8080/"
        },
        "id": "0pX1S0GiCQQt",
        "outputId": "762de6ec-616a-458b-b376-e6cdb5725489"
      },
      "execution_count": 3,
      "outputs": [
        {
          "output_type": "stream",
          "name": "stdout",
          "text": [
            "0 T\n",
            "1 o\n",
            "2 d\n",
            "3 a\n",
            "4 y\n",
            "5  \n",
            "6 i\n",
            "7 s\n",
            "8  \n",
            "9 t\n",
            "10 h\n",
            "11 e\n",
            "12  \n",
            "13 8\n",
            "14 t\n",
            "15 h\n",
            "16  \n",
            "17 d\n",
            "18 a\n",
            "19 y\n",
            "20  \n",
            "21 o\n",
            "22 f\n",
            "23  \n",
            "24 c\n",
            "25 h\n",
            "26 a\n",
            "27 l\n",
            "28 l\n",
            "29 e\n",
            "30 n\n",
            "31 g\n",
            "32 e\n",
            "33  \n",
            "34 i\n",
            "35 .\n",
            "36 e\n",
            "37  \n",
            "38 1\n",
            "39 5\n",
            "40 -\n",
            "41 1\n",
            "42 2\n",
            "43 -\n",
            "44 2\n",
            "45 0\n",
            "46 2\n",
            "47 4\n",
            "48  \n"
          ]
        }
      ]
    },
    {
      "cell_type": "code",
      "source": [
        "string =\"Today is the 8th day of challenge i.e 15-12-2024 \"\n",
        "for i in  string:\n",
        "  print(i,end=\" \")"
      ],
      "metadata": {
        "colab": {
          "base_uri": "https://localhost:8080/"
        },
        "id": "kkKgMvxWER94",
        "outputId": "d1518d6c-1151-4177-91a1-fc5632ca7ebc"
      },
      "execution_count": 5,
      "outputs": [
        {
          "output_type": "stream",
          "name": "stdout",
          "text": [
            "T o d a y   i s   t h e   8 t h   d a y   o f   c h a l l e n g e   i . e   1 5 - 1 2 - 2 0 2 4   "
          ]
        }
      ]
    },
    {
      "cell_type": "code",
      "source": [
        "string = \"hi\"\n",
        "for i in range(len(string)):\n",
        "  print(i)"
      ],
      "metadata": {
        "colab": {
          "base_uri": "https://localhost:8080/"
        },
        "id": "juHiJADWEcIH",
        "outputId": "6110ed56-ff56-4ed9-873f-153ad49d5518"
      },
      "execution_count": 6,
      "outputs": [
        {
          "output_type": "stream",
          "name": "stdout",
          "text": [
            "0\n",
            "1\n"
          ]
        }
      ]
    },
    {
      "cell_type": "code",
      "source": [
        "string =\"hello\"\n",
        "for i in range (len(string)):\n",
        "  print(string[i])"
      ],
      "metadata": {
        "colab": {
          "base_uri": "https://localhost:8080/"
        },
        "id": "ekWLxb45EybR",
        "outputId": "9c797fdc-cc84-4a6c-86cc-5ab483422fb0"
      },
      "execution_count": 7,
      "outputs": [
        {
          "output_type": "stream",
          "name": "stdout",
          "text": [
            "h\n",
            "e\n",
            "l\n",
            "l\n",
            "o\n"
          ]
        }
      ]
    },
    {
      "cell_type": "code",
      "source": [
        "string=\"Basketball\"\n",
        "index=0\n",
        "while index<len(string):\n",
        "  print(string[index])\n",
        "  index+=1"
      ],
      "metadata": {
        "colab": {
          "base_uri": "https://localhost:8080/"
        },
        "id": "_tCQvIQcFErO",
        "outputId": "cc697636-d314-43c5-f6f7-626abcf7c7fc"
      },
      "execution_count": 6,
      "outputs": [
        {
          "output_type": "stream",
          "name": "stdout",
          "text": [
            "B\n",
            "a\n",
            "s\n",
            "k\n",
            "e\n",
            "t\n",
            "b\n",
            "a\n",
            "l\n",
            "l\n"
          ]
        }
      ]
    },
    {
      "cell_type": "code",
      "source": [
        "number =[1,2,3,4,5,6,7]\n",
        "square = [i**2 for i in number]\n",
        "print(square)"
      ],
      "metadata": {
        "colab": {
          "base_uri": "https://localhost:8080/"
        },
        "id": "FQ9kc3vXF0Z0",
        "outputId": "72b9c8cf-d4c0-4b33-917c-dedad70a8027"
      },
      "execution_count": 7,
      "outputs": [
        {
          "output_type": "stream",
          "name": "stdout",
          "text": [
            "[1, 4, 9, 16, 25, 36, 49]\n"
          ]
        }
      ]
    },
    {
      "cell_type": "code",
      "source": [],
      "metadata": {
        "id": "btxKTkAYHOqM"
      },
      "execution_count": null,
      "outputs": []
    }
  ]
}