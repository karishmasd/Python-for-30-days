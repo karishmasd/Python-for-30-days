{
  "nbformat": 4,
  "nbformat_minor": 0,
  "metadata": {
    "colab": {
      "provenance": [],
      "authorship_tag": "ABX9TyMjgraS0mb5LEY+pjMPiZfY",
      "include_colab_link": true
    },
    "kernelspec": {
      "name": "python3",
      "display_name": "Python 3"
    },
    "language_info": {
      "name": "python"
    }
  },
  "cells": [
    {
      "cell_type": "markdown",
      "metadata": {
        "id": "view-in-github",
        "colab_type": "text"
      },
      "source": [
        "<a href=\"https://colab.research.google.com/github/karishmasd/Python-for-30-days/blob/main/Day12.ipynb\" target=\"_parent\"><img src=\"https://colab.research.google.com/assets/colab-badge.svg\" alt=\"Open In Colab\"/></a>"
      ]
    },
    {
      "cell_type": "code",
      "execution_count": 1,
      "metadata": {
        "colab": {
          "base_uri": "https://localhost:8080/"
        },
        "id": "UFwpbDkualr0",
        "outputId": "fc92694a-24a6-47ee-d1bd-5461ab9fcdf2"
      },
      "outputs": [
        {
          "output_type": "execute_result",
          "data": {
            "text/plain": [
              "3"
            ]
          },
          "metadata": {},
          "execution_count": 1
        }
      ],
      "source": [
        "\"system\".index(\"t\")"
      ]
    },
    {
      "cell_type": "code",
      "source": [
        "message = \"A kong string with a silly typo\"\n",
        "print(message[:2]+\"l\"+message[3:])"
      ],
      "metadata": {
        "colab": {
          "base_uri": "https://localhost:8080/"
        },
        "id": "AVvwtPA7bNbf",
        "outputId": "7e7b2aaa-d32b-43cb-9331-f335205a6903"
      },
      "execution_count": 2,
      "outputs": [
        {
          "output_type": "stream",
          "name": "stdout",
          "text": [
            "A long string with a silly typo\n"
          ]
        }
      ]
    },
    {
      "cell_type": "code",
      "source": [
        "message=\"Print message \"\n",
        "print(message)\n",
        "message=\"add another one \"\n",
        "print(message)"
      ],
      "metadata": {
        "colab": {
          "base_uri": "https://localhost:8080/"
        },
        "id": "4ncKtjv1bqk0",
        "outputId": "1c75d469-2e96-4dd3-d692-ba5af194ecff"
      },
      "execution_count": 3,
      "outputs": [
        {
          "output_type": "stream",
          "name": "stdout",
          "text": [
            "Print message \n",
            "add another one \n"
          ]
        }
      ]
    },
    {
      "cell_type": "code",
      "source": [
        "name=\"J&K SYED\"\n",
        "print(name.index(\"&\"))\n",
        "print(name.index(\"Y\"))\n",
        "print(name.index(\"SYED\"))"
      ],
      "metadata": {
        "colab": {
          "base_uri": "https://localhost:8080/"
        },
        "id": "kpRKLundb7a4",
        "outputId": "0becf80e-e341-487b-866c-4cdf55270a20"
      },
      "execution_count": 16,
      "outputs": [
        {
          "output_type": "stream",
          "name": "stdout",
          "text": [
            "1\n",
            "5\n",
            "4\n"
          ]
        }
      ]
    },
    {
      "cell_type": "code",
      "source": [
        "\"J\" in name"
      ],
      "metadata": {
        "colab": {
          "base_uri": "https://localhost:8080/"
        },
        "id": "1Wyc5c2gcO8R",
        "outputId": "fcc16dfa-7127-44cd-ac60-d230ccd4314c"
      },
      "execution_count": 7,
      "outputs": [
        {
          "output_type": "execute_result",
          "data": {
            "text/plain": [
              "True"
            ]
          },
          "metadata": {},
          "execution_count": 7
        }
      ]
    },
    {
      "cell_type": "code",
      "source": [
        "\"SYED\" in name"
      ],
      "metadata": {
        "colab": {
          "base_uri": "https://localhost:8080/"
        },
        "id": "5Q0vPg3hccps",
        "outputId": "7e8072bb-6f11-4608-9e54-298526df7319"
      },
      "execution_count": 8,
      "outputs": [
        {
          "output_type": "execute_result",
          "data": {
            "text/plain": [
              "True"
            ]
          },
          "metadata": {},
          "execution_count": 8
        }
      ]
    },
    {
      "cell_type": "code",
      "source": [
        "\"SYED\" not in name"
      ],
      "metadata": {
        "colab": {
          "base_uri": "https://localhost:8080/"
        },
        "id": "ILZWvL0hcfh8",
        "outputId": "32beaec3-413a-4784-96b9-eb7349d762d7"
      },
      "execution_count": 9,
      "outputs": [
        {
          "output_type": "execute_result",
          "data": {
            "text/plain": [
              "False"
            ]
          },
          "metadata": {},
          "execution_count": 9
        }
      ]
    },
    {
      "cell_type": "code",
      "source": [
        "\"SBKCJHDSFW\" in name"
      ],
      "metadata": {
        "colab": {
          "base_uri": "https://localhost:8080/"
        },
        "id": "6UH9obW9cj66",
        "outputId": "4c58679f-5927-4c9f-e72c-e831192c5071"
      },
      "execution_count": 10,
      "outputs": [
        {
          "output_type": "execute_result",
          "data": {
            "text/plain": [
              "False"
            ]
          },
          "metadata": {},
          "execution_count": 10
        }
      ]
    },
    {
      "cell_type": "code",
      "source": [
        "def replace_domain(email, old_domain, new_domain):\n",
        "  if \"@\"+old_domain in email:\n",
        "    index=email.index(\"@\")\n",
        "    new_email=email[:index]+\"@\"+new_domain\n",
        "    return new_email\n",
        "  return email\n",
        "replace_domain(\"axbuag@yahoo.com\",\"yahoo.com\",\"google.com\")"
      ],
      "metadata": {
        "colab": {
          "base_uri": "https://localhost:8080/",
          "height": 35
        },
        "id": "AoZzEBnvc0Zx",
        "outputId": "184287a1-7453-4d8f-9b27-bbd779c411b4"
      },
      "execution_count": 15,
      "outputs": [
        {
          "output_type": "execute_result",
          "data": {
            "text/plain": [
              "'axbuag@google.com'"
            ],
            "application/vnd.google.colaboratory.intrinsic+json": {
              "type": "string"
            }
          },
          "metadata": {},
          "execution_count": 15
        }
      ]
    },
    {
      "cell_type": "markdown",
      "source": [
        "#upper() &lower()"
      ],
      "metadata": {
        "id": "mKAB478Qo7Jn"
      }
    },
    {
      "cell_type": "code",
      "source": [
        "\"moUNTAIN\".upper()\n",
        "\"svdVDQWHJVD\".lower()"
      ],
      "metadata": {
        "colab": {
          "base_uri": "https://localhost:8080/",
          "height": 35
        },
        "id": "MC21UWvJlk4s",
        "outputId": "b92999d4-94e8-4191-d7d6-925a5c6a35d5"
      },
      "execution_count": 21,
      "outputs": [
        {
          "output_type": "execute_result",
          "data": {
            "text/plain": [
              "'svdvdqwhjvd'"
            ],
            "application/vnd.google.colaboratory.intrinsic+json": {
              "type": "string"
            }
          },
          "metadata": {},
          "execution_count": 21
        }
      ]
    },
    {
      "cell_type": "code",
      "source": [
        "name=\"KARiSHMA\"\n",
        "if name.isupper():\n",
        "  print(name)\n",
        "\n",
        "else:\n",
        "  print(name.lower())"
      ],
      "metadata": {
        "colab": {
          "base_uri": "https://localhost:8080/"
        },
        "id": "V-pE-15PlpYc",
        "outputId": "3220a1dc-5c25-4f5c-d9a4-51d83fa7dc24"
      },
      "execution_count": 28,
      "outputs": [
        {
          "output_type": "stream",
          "name": "stdout",
          "text": [
            "karishma\n"
          ]
        }
      ]
    },
    {
      "cell_type": "markdown",
      "source": [
        "#.strip() to remove white spaces\n",
        "\n"
      ],
      "metadata": {
        "id": "v1Fe3c_HpAWP"
      }
    },
    {
      "cell_type": "code",
      "source": [
        "\"yes/         \".strip()"
      ],
      "metadata": {
        "colab": {
          "base_uri": "https://localhost:8080/",
          "height": 35
        },
        "id": "cJvvBzIsmnl0",
        "outputId": "4ebc6d14-65aa-4379-cfeb-2e84a9afbfeb"
      },
      "execution_count": 32,
      "outputs": [
        {
          "output_type": "execute_result",
          "data": {
            "text/plain": [
              "'yes/'"
            ],
            "application/vnd.google.colaboratory.intrinsic+json": {
              "type": "string"
            }
          },
          "metadata": {},
          "execution_count": 32
        }
      ]
    },
    {
      "cell_type": "code",
      "source": [
        "\"yes/         \".rstrip()"
      ],
      "metadata": {
        "colab": {
          "base_uri": "https://localhost:8080/",
          "height": 35
        },
        "id": "sm-hcMo-m37f",
        "outputId": "1aea0dd5-f3aa-4bf4-8d23-94969e898dd6"
      },
      "execution_count": 33,
      "outputs": [
        {
          "output_type": "execute_result",
          "data": {
            "text/plain": [
              "'yes/'"
            ],
            "application/vnd.google.colaboratory.intrinsic+json": {
              "type": "string"
            }
          },
          "metadata": {},
          "execution_count": 33
        }
      ]
    },
    {
      "cell_type": "code",
      "source": [
        "\"yes/         \".lstrip()"
      ],
      "metadata": {
        "colab": {
          "base_uri": "https://localhost:8080/",
          "height": 35
        },
        "id": "4jlnZSHvnFf-",
        "outputId": "cb277449-1508-416a-92f4-5bd3ce4bb1ae"
      },
      "execution_count": 34,
      "outputs": [
        {
          "output_type": "execute_result",
          "data": {
            "text/plain": [
              "'yes/         '"
            ],
            "application/vnd.google.colaboratory.intrinsic+json": {
              "type": "string"
            }
          },
          "metadata": {},
          "execution_count": 34
        }
      ]
    },
    {
      "cell_type": "markdown",
      "source": [
        ".count()"
      ],
      "metadata": {
        "id": "tzc12BFcpLRO"
      }
    },
    {
      "cell_type": "code",
      "source": [
        "\"The number of times e occured in this string will be contuned \".count(\"e\")"
      ],
      "metadata": {
        "colab": {
          "base_uri": "https://localhost:8080/"
        },
        "id": "3XdsI2ENnH2S",
        "outputId": "b2dc5559-2681-45cd-bd91-b82caa77e99d"
      },
      "execution_count": 35,
      "outputs": [
        {
          "output_type": "execute_result",
          "data": {
            "text/plain": [
              "7"
            ]
          },
          "metadata": {},
          "execution_count": 35
        }
      ]
    },
    {
      "cell_type": "code",
      "source": [
        "\"hiiiiiiiiiiiiiiiiiiiiiiiiii\".count(\"i\")"
      ],
      "metadata": {
        "colab": {
          "base_uri": "https://localhost:8080/"
        },
        "id": "n5DFFOaznVeu",
        "outputId": "a589f13c-b011-4d8c-edcd-ff225b9b74b0"
      },
      "execution_count": 36,
      "outputs": [
        {
          "output_type": "execute_result",
          "data": {
            "text/plain": [
              "26"
            ]
          },
          "metadata": {},
          "execution_count": 36
        }
      ]
    },
    {
      "cell_type": "markdown",
      "source": [
        "#.endswith()"
      ],
      "metadata": {
        "id": "ymL10cfipSRF"
      }
    },
    {
      "cell_type": "code",
      "source": [
        "\"Friend\".endswith(\"end\")"
      ],
      "metadata": {
        "colab": {
          "base_uri": "https://localhost:8080/"
        },
        "id": "8A6g_Do3nhOW",
        "outputId": "2cbf9e8c-ff8f-49dc-c962-adbdf5f7df48"
      },
      "execution_count": 38,
      "outputs": [
        {
          "output_type": "execute_result",
          "data": {
            "text/plain": [
              "True"
            ]
          },
          "metadata": {},
          "execution_count": 38
        }
      ]
    },
    {
      "cell_type": "code",
      "source": [
        "\"Forest\".isnumeric()\n"
      ],
      "metadata": {
        "colab": {
          "base_uri": "https://localhost:8080/"
        },
        "id": "MGeEByH6nnRB",
        "outputId": "f378b166-7549-41be-cee9-7948f674f46d"
      },
      "execution_count": 40,
      "outputs": [
        {
          "output_type": "execute_result",
          "data": {
            "text/plain": [
              "False"
            ]
          },
          "metadata": {},
          "execution_count": 40
        }
      ]
    },
    {
      "cell_type": "code",
      "source": [
        "\"12345\".isnumeric()"
      ],
      "metadata": {
        "colab": {
          "base_uri": "https://localhost:8080/"
        },
        "id": "gXjMXQgfnzdi",
        "outputId": "37ea7db1-b1bb-4451-f11d-6eafa73abdec"
      },
      "execution_count": 41,
      "outputs": [
        {
          "output_type": "execute_result",
          "data": {
            "text/plain": [
              "True"
            ]
          },
          "metadata": {},
          "execution_count": 41
        }
      ]
    },
    {
      "cell_type": "code",
      "source": [
        "int(\"567890\")+int(\"9008908\")+23"
      ],
      "metadata": {
        "colab": {
          "base_uri": "https://localhost:8080/"
        },
        "id": "nkJOdmYMn45d",
        "outputId": "08370c57-451c-4b72-a27e-023d97dbdf3d"
      },
      "execution_count": 42,
      "outputs": [
        {
          "output_type": "execute_result",
          "data": {
            "text/plain": [
              "9576821"
            ]
          },
          "metadata": {},
          "execution_count": 42
        }
      ]
    },
    {
      "cell_type": "markdown",
      "source": [
        ".join() is used for concatenating"
      ],
      "metadata": {
        "id": "OKd4UB4kpWzl"
      }
    },
    {
      "cell_type": "code",
      "source": [
        "print(\" \".join([\"This\", \"is\", \"a\", \"phrase\", \"joined\", \"by\", \"spaces\"]))\n",
        "\"...\".join([\"This\", \"is\", \"a\", \"phrase\", \"joined\", \"by\", \"triple\", \"dots\"])"
      ],
      "metadata": {
        "colab": {
          "base_uri": "https://localhost:8080/",
          "height": 52
        },
        "id": "KmiZNuscoAfi",
        "outputId": "f2f77d65-2aab-4f8b-a4b0-be69a56c4709"
      },
      "execution_count": 43,
      "outputs": [
        {
          "output_type": "stream",
          "name": "stdout",
          "text": [
            "This is a phrase joined by spaces\n"
          ]
        },
        {
          "output_type": "execute_result",
          "data": {
            "text/plain": [
              "'This...is...a...phrase...joined...by...triple...dots'"
            ],
            "application/vnd.google.colaboratory.intrinsic+json": {
              "type": "string"
            }
          },
          "metadata": {},
          "execution_count": 43
        }
      ]
    },
    {
      "cell_type": "code",
      "source": [
        "\"This is another example\".split()"
      ],
      "metadata": {
        "colab": {
          "base_uri": "https://localhost:8080/"
        },
        "id": "53smK-NIontH",
        "outputId": "65d1e735-6ab2-4d35-c0b9-55360353b5cd"
      },
      "execution_count": 44,
      "outputs": [
        {
          "output_type": "execute_result",
          "data": {
            "text/plain": [
              "['This', 'is', 'another', 'example']"
            ]
          },
          "metadata": {},
          "execution_count": 44
        }
      ]
    }
  ]
}