{
  "nbformat": 4,
  "nbformat_minor": 0,
  "metadata": {
    "colab": {
      "provenance": [],
      "authorship_tag": "ABX9TyMiOrdwEvI9IzgKmnLFA/Ge",
      "include_colab_link": true
    },
    "kernelspec": {
      "name": "python3",
      "display_name": "Python 3"
    },
    "language_info": {
      "name": "python"
    }
  },
  "cells": [
    {
      "cell_type": "markdown",
      "metadata": {
        "id": "view-in-github",
        "colab_type": "text"
      },
      "source": [
        "<a href=\"https://colab.research.google.com/github/karishmasd/Python-for-30-days/blob/main/Day4.ipynb\" target=\"_parent\"><img src=\"https://colab.research.google.com/assets/colab-badge.svg\" alt=\"Open In Colab\"/></a>"
      ]
    },
    {
      "cell_type": "markdown",
      "source": [
        "Comparison operators with numerical values\n",
        "\n",
        "Comparison expressions return a Boolean result (True or False).\n",
        "\n",
        "x == y        If x is equal to y, return True. Else, return False.\n",
        "\n",
        "x != y         If x is not equal to y, return True. Else, return False.\n",
        "\n",
        "x < y          If x is less than y, return True. Else, return False.\n",
        "\n",
        "x <= y        If x is less than or equal to y, return True. Else, return False.\n",
        "\n",
        "x > y          If x is greater than y, return True. Else, return False.\n",
        "\n",
        "x >= y        If x is greater or equal to y, return True. Else, return False.\n",
        "\n",
        "Comparison operators with strings\n",
        "\n",
        "Comparison expressions with strings also return a Boolean result (True or False).\n",
        "\n",
        "\"x\" == \"y\"  If the words are the same, return True. Else, return False.\n",
        "\n",
        "\"x\" != \"y\"   If the words are not the same, return True. Else, return False.\n",
        "\n",
        "When used with strings, the following comparison expressions will alphabetize the strings.\n",
        "\n",
        "\"x\" < \"y\"   \tIf string \"x\"  has a smaller Unicode value than string \"y\", return True.  Else, return False.\n",
        "\n",
        "\"x\" <= \"y\" \tIf the Unicode value for string \"x\" is smaller than or equal to the Unicode value of string \"y\", return True. Else, return False.\n",
        "\n",
        "\"x\" > \"y\"    \tIf string \"x\" has a larger Unicode value than string \"y\", return True. Else, return False.\n",
        "\n",
        "\"x\" >= \"y\"  \tIf the Unicode value for string \"x\" is greater than or equal to the Unicode value of string \"y\", return True. Else, return False.\n",
        "\n",
        "Unicode values for the alphabet\n",
        "\n",
        "Image containing the unicode value of each letter of the alphabet\n",
        " The Unicode numbering for the alphabet starts at 65 for capital letter A and runs to 90 for capital letter Z. Then, the lowercase alphabet values start at 97 for lowercase a and run to 122 for lowercase z. Using these Unicode numbers, capital A's code is less than the codes of all other letters, which Python interprets as the beginning of the alphabet. Lowercase z's code is greater than the codes of all other letters, which Python interprets as the ultimate end of the English alphabet.\n",
        "\n",
        "Logical operators\n",
        "\n",
        "Logical operators are used to combine comparison expressions and also return Boolean results (True or False).\n",
        "\n",
        "comparison1 and comparison2\n",
        "\n",
        "Returns a True result if both comparison1 and comparison2 are true.\n",
        "\n",
        "If they are not both true, return False.\n",
        "\n",
        "comparison1 or comparison2\n",
        "\n",
        "Returns a True result if either comparison1 and/or comparison2 are True.\n",
        "\n",
        "If neither comparison is true, return False.\n",
        "\n",
        "not comparison1\n",
        "\n",
        "Returns the inverse Boolean value of the comparison.\n",
        "\n",
        "Returns a True result if comparison1 is false.\n",
        "\n",
        "If comparison1 is true, then returns False.\n",
        "\n"
      ],
      "metadata": {
        "id": "SIZ1NPNz2Ukf"
      }
    },
    {
      "cell_type": "code",
      "source": [],
      "metadata": {
        "id": "ePv-jw0L3HjP"
      },
      "execution_count": null,
      "outputs": []
    },
    {
      "cell_type": "markdown",
      "source": [
        "If a filesystem has a block size of 4096 bytes, this means that a file comprised of only one byte will still use 4096 bytes of storage. A file made up of 4097 bytes will use 4096*2=8192 bytes of storage. Knowing this, can you fill in the gaps in the calculate_storage function below, which calculates the total number of bytes needed to store a file of a given size?"
      ],
      "metadata": {
        "id": "m0iSLnVK6gpz"
      }
    },
    {
      "cell_type": "code",
      "source": [
        "def file_size(file_size):\n",
        "  block_size= 4096\n",
        "  if file_size%block_size==0:\n",
        "    return file_size\n",
        "  return (file_size//block_size+1)*block_size\n",
        "file_size(4096)\n",
        "file_size(4097)\n"
      ],
      "metadata": {
        "id": "dAVxtyJMFkas",
        "colab": {
          "base_uri": "https://localhost:8080/"
        },
        "outputId": "63db8c0b-509e-46ca-b3fb-a0253193793d"
      },
      "execution_count": 3,
      "outputs": [
        {
          "output_type": "execute_result",
          "data": {
            "text/plain": [
              "8192"
            ]
          },
          "metadata": {},
          "execution_count": 3
        }
      ]
    }
  ]
}