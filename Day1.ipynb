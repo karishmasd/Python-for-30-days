{
  "nbformat": 4,
  "nbformat_minor": 0,
  "metadata": {
    "colab": {
      "provenance": [],
      "authorship_tag": "ABX9TyMBHbZT2yHrM3LgkoY4H6Q0",
      "include_colab_link": true
    },
    "kernelspec": {
      "name": "python3",
      "display_name": "Python 3"
    },
    "language_info": {
      "name": "python"
    }
  },
  "cells": [
    {
      "cell_type": "markdown",
      "metadata": {
        "id": "view-in-github",
        "colab_type": "text"
      },
      "source": [
        "<a href=\"https://colab.research.google.com/github/karishmasd/Python-for-30-days/blob/main/Day1.ipynb\" target=\"_parent\"><img src=\"https://colab.research.google.com/assets/colab-badge.svg\" alt=\"Open In Colab\"/></a>"
      ]
    },
    {
      "cell_type": "code",
      "execution_count": null,
      "metadata": {
        "colab": {
          "base_uri": "https://localhost:8080/"
        },
        "id": "ahMzK-fPzof3",
        "outputId": "84f8c528-90fb-4b1b-a735-df5b7c41e3a8"
      },
      "outputs": [
        {
          "output_type": "stream",
          "name": "stdout",
          "text": [
            "Hello World\n"
          ]
        }
      ],
      "source": [
        "print(\"Hello World\")"
      ]
    },
    {
      "cell_type": "code",
      "source": [
        "name=\"Karishma Syed \"\n",
        "print(name)"
      ],
      "metadata": {
        "colab": {
          "base_uri": "https://localhost:8080/"
        },
        "id": "TyjHlEZgzwIn",
        "outputId": "9c8dad63-fdbe-43d5-9727-a729967c3151"
      },
      "execution_count": null,
      "outputs": [
        {
          "output_type": "stream",
          "name": "stdout",
          "text": [
            "Karishma Syed \n"
          ]
        }
      ]
    },
    {
      "cell_type": "code",
      "source": [
        "name=\"Karishma Syed \"\n",
        "print(\"Hello\"+ name )"
      ],
      "metadata": {
        "colab": {
          "base_uri": "https://localhost:8080/"
        },
        "id": "Bjyea6sEz42Z",
        "outputId": "b5ebf47e-2f2f-43a7-b011-603eee29bb38"
      },
      "execution_count": null,
      "outputs": [
        {
          "output_type": "stream",
          "name": "stdout",
          "text": [
            "HelloKarishma Syed \n"
          ]
        }
      ]
    },
    {
      "cell_type": "code",
      "source": [
        "name= \"Karishma Syed \"\n",
        "print(\"Hello \"+ name)"
      ],
      "metadata": {
        "colab": {
          "base_uri": "https://localhost:8080/"
        },
        "id": "esrDQXlK0E0A",
        "outputId": "f02f4633-9510-42aa-9bb4-a3a8d2b5ab3c"
      },
      "execution_count": null,
      "outputs": [
        {
          "output_type": "stream",
          "name": "stdout",
          "text": [
            "Hello Karishma Syed \n"
          ]
        }
      ]
    },
    {
      "cell_type": "code",
      "source": [
        "name= 'Karishma Syed'\n",
        "print(\"Hello \"+ name)"
      ],
      "metadata": {
        "colab": {
          "base_uri": "https://localhost:8080/"
        },
        "id": "_yb9F4SF0OgN",
        "outputId": "84c03f93-c15c-4f68-bc4c-546f2862795d"
      },
      "execution_count": null,
      "outputs": [
        {
          "output_type": "stream",
          "name": "stdout",
          "text": [
            "Hello Karishma Syed\n"
          ]
        }
      ]
    },
    {
      "cell_type": "code",
      "source": [
        "names= [\"Karishma \", \"Gousia \", \"Queen \"]\n",
        "for i in names:\n",
        " print(\"Hello \"+ i)\n"
      ],
      "metadata": {
        "colab": {
          "base_uri": "https://localhost:8080/"
        },
        "id": "Txp-kAo00ZjK",
        "outputId": "a4014481-dd58-4b50-e295-d0b60ed06c5a"
      },
      "execution_count": null,
      "outputs": [
        {
          "output_type": "stream",
          "name": "stdout",
          "text": [
            "Hello Karishma \n",
            "Hello Gousia \n",
            "Hello Queen \n"
          ]
        }
      ]
    },
    {
      "cell_type": "code",
      "source": [
        "a=10\n",
        "b=3\n",
        "print(a+b)\n",
        "print(a-b)\n",
        "print(a*b)\n",
        "print(a/b)\n",
        "print(a**b)               #exponent\n",
        "print(a>b)\n",
        "print(a<b)\n",
        "print(a**(1/2))           #squareroot\n",
        "print(a%b)                #mod function\n",
        "print(a//b)               #Floor division"
      ],
      "metadata": {
        "colab": {
          "base_uri": "https://localhost:8080/"
        },
        "id": "oq_VjMzX01I_",
        "outputId": "f7265738-9352-4172-ebf4-e06c51b620e3"
      },
      "execution_count": null,
      "outputs": [
        {
          "output_type": "stream",
          "name": "stdout",
          "text": [
            "13\n",
            "7\n",
            "30\n",
            "3.3333333333333335\n",
            "1000\n",
            "True\n",
            "False\n",
            "3.1622776601683795\n",
            "1\n",
            "3\n"
          ]
        }
      ]
    },
    {
      "cell_type": "code",
      "source": [
        "# Naming rules\n",
        "# no spaces\n",
        "# can be mix of upper and lower case\n",
        "#cannot start with number (can be used later )\n",
        "#words are seperated with underscore"
      ],
      "metadata": {
        "id": "gymypDp21sfm"
      },
      "execution_count": null,
      "outputs": []
    },
    {
      "cell_type": "code",
      "source": [
        "#Datatypes\n",
        "print(type(1))\n",
        "print(type(\"a\"))\n",
        "print(type(3.5))"
      ],
      "metadata": {
        "colab": {
          "base_uri": "https://localhost:8080/"
        },
        "id": "OaIv1YHW2M0m",
        "outputId": "6f2226d9-10dd-4e50-ae13-6113a2d88e28"
      },
      "execution_count": null,
      "outputs": [
        {
          "output_type": "stream",
          "name": "stdout",
          "text": [
            "<class 'int'>\n",
            "<class 'str'>\n",
            "<class 'float'>\n"
          ]
        }
      ]
    },
    {
      "cell_type": "code",
      "source": [
        "#Implicit Conversion\n",
        "print(7+8.5)# integer and float\n",
        "# python does implicit conversion where interpreter automatically converts the one datatype to another"
      ],
      "metadata": {
        "colab": {
          "base_uri": "https://localhost:8080/"
        },
        "id": "TV09pCROkowR",
        "outputId": "3caac30f-e298-4fd9-a498-98914656b99c"
      },
      "execution_count": null,
      "outputs": [
        {
          "output_type": "stream",
          "name": "stdout",
          "text": [
            "15.5\n"
          ]
        }
      ]
    },
    {
      "cell_type": "code",
      "source": [
        "#Explicit Conversion (manual conversion)\n",
        "#Area of triangle\n",
        "base= 10\n",
        "height = 15\n",
        "area= 0.5*base*height\n",
        "#print(\"The area of traingle: \"+ area) this will give us error because the data type of area is float and as we are printing the string so we have to convert the float to string by str()\n",
        "print(\"The area of triangle :\" +str(area))"
      ],
      "metadata": {
        "colab": {
          "base_uri": "https://localhost:8080/"
        },
        "id": "zFocSynNZqgO",
        "outputId": "4a41ecb7-47d8-4249-d031-49452773c330"
      },
      "execution_count": null,
      "outputs": [
        {
          "output_type": "stream",
          "name": "stdout",
          "text": [
            "The area of triangle :75.0\n"
          ]
        }
      ]
    },
    {
      "cell_type": "code",
      "source": [
        "#Explicit Conversion\n",
        "Total_marks = 97+96+92+100\n",
        "subjects=4\n",
        "average=Total_marks/subjects\n",
        "print(\"The average marks obtained is \"+str(average))\n"
      ],
      "metadata": {
        "colab": {
          "base_uri": "https://localhost:8080/"
        },
        "id": "kH_hlUSwmQbX",
        "outputId": "b5ed3932-abe9-477c-f25c-3318a11ea7c0"
      },
      "execution_count": null,
      "outputs": [
        {
          "output_type": "stream",
          "name": "stdout",
          "text": [
            "The average marks obtained is 96.25\n"
          ]
        }
      ]
    }
  ]
}