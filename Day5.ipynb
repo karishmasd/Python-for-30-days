{
  "nbformat": 4,
  "nbformat_minor": 0,
  "metadata": {
    "colab": {
      "provenance": [],
      "authorship_tag": "ABX9TyPhU4e/IXUfB7oxuL6PAhq8",
      "include_colab_link": true
    },
    "kernelspec": {
      "name": "python3",
      "display_name": "Python 3"
    },
    "language_info": {
      "name": "python"
    }
  },
  "cells": [
    {
      "cell_type": "markdown",
      "metadata": {
        "id": "view-in-github",
        "colab_type": "text"
      },
      "source": [
        "<a href=\"https://colab.research.google.com/github/karishmasd/Python-for-30-days/blob/main/Day5.ipynb\" target=\"_parent\"><img src=\"https://colab.research.google.com/assets/colab-badge.svg\" alt=\"Open In Colab\"/></a>"
      ]
    },
    {
      "cell_type": "markdown",
      "source": [
        "Police patrol a specific stretch of dangerous highway and are very particular about speed limits.  The speed limit is 65 miles per hour. Cars going 85 miles per hour or more are given a “Reckless Driving” ticket. Cars going more than 65 miles per hour but less than 85 miles per hour are given a “Speeding” ticket.  Any cars going less than 65 are labeled “Safe” in the system.  "
      ],
      "metadata": {
        "id": "VA-D38esFTZE"
      }
    },
    {
      "cell_type": "code",
      "execution_count": 1,
      "metadata": {
        "colab": {
          "base_uri": "https://localhost:8080/"
        },
        "id": "RhzmX6IGEHPd",
        "outputId": "77002108-09b1-40d9-b6fa-5bf0679c7dd0"
      },
      "outputs": [
        {
          "output_type": "stream",
          "name": "stdout",
          "text": [
            "Reckless Driving\n",
            "Speeding\n",
            "Safe\n",
            "Reckless Driving\n",
            "Safe\n",
            "Speeding\n"
          ]
        }
      ],
      "source": [
        "def speeding_ticket(speed):\n",
        "    if speed>65 and speed>=85:\n",
        "        ticket = \"Reckless Driving\"\n",
        "    elif speed>65 :\n",
        "        ticket = \"Speeding\"\n",
        "    else:\n",
        "        ticket = \"Safe\"\n",
        "    return ticket\n",
        "\n",
        "\n",
        "print(speeding_ticket(87)) # Should print Reckless Driving\n",
        "print(speeding_ticket(66)) # Should print Speeding\n",
        "print(speeding_ticket(65)) # Should print Safe\n",
        "print(speeding_ticket(85)) # Should print Reckless Driving\n",
        "print(speeding_ticket(35)) # Should print Safe\n",
        "print(speeding_ticket(77)) # Should print Speeding"
      ]
    },
    {
      "cell_type": "markdown",
      "source": [
        "The “identify_IP” function receives an “IP_address” as a string through the function’s parameters, then it should print a description of the IP address. Currently, the function should only support three IP addresses and return \"unknown\" for all other IPs.\n",
        "\n"
      ],
      "metadata": {
        "id": "gNs9YU1NGAb5"
      }
    },
    {
      "cell_type": "code",
      "source": [
        "def identify_IP(IP_address):\n",
        "    if IP_address == \"192.168.1.1\":\n",
        "        IP_description = \"Network router\"\n",
        "    elif IP_address == \"8.8.8.8\" or IP_address == \"8.8.4.4\":\n",
        "        IP_description = \"Google DNS server\"\n",
        "    elif IP_address == \"142.250.191.46\":\n",
        "        IP_description = \"Google.com\"\n",
        "    else:\n",
        "        IP_description = \"unknown\"\n",
        "    return IP_description\n",
        "\n",
        "\n",
        "print(identify_IP(\"8.8.4.4\")) # Should print 'Google DNS server'\n",
        "print(identify_IP(\"142.250.191.46\")) # Should print 'Google.com'\n",
        "print(identify_IP(\"192.168.1.1\")) # Should print 'Network router'\n",
        "print(identify_IP(\"8.8.8.8\")) # Should print 'Google DNS server'\n",
        "print(identify_IP(\"10.10.10.10\")) # Should print 'unknown'\n",
        "print(identify_IP(\"\")) # Should Should print 'unknown'"
      ],
      "metadata": {
        "colab": {
          "base_uri": "https://localhost:8080/"
        },
        "id": "MtJP7tLwGAF2",
        "outputId": "3db88a28-28db-4cd7-b1ef-fe2fb9841139"
      },
      "execution_count": 2,
      "outputs": [
        {
          "output_type": "stream",
          "name": "stdout",
          "text": [
            "Google DNS server\n",
            "Google.com\n",
            "Network router\n",
            "Google DNS server\n",
            "unknown\n",
            "unknown\n"
          ]
        }
      ]
    },
    {
      "cell_type": "markdown",
      "source": [
        "The function accepts two numeric variables through the function parameters and divides the “numerator” by the “denominator”. The function’s main purpose is to prevent a ZeroDivisionError by checking if the “denominator” is 0. If it is 0, the function should return 0 instead of attempting the division. Otherwise all other numbers will be part of the division equation. Complete the body of the function so that the function completes its purpose."
      ],
      "metadata": {
        "id": "ZdIksSbrHSPd"
      }
    },
    {
      "cell_type": "code",
      "source": [
        "def safe_division(numerator, denominator):\n",
        "    # Complete the if block to catch any \"denominator\" variables\n",
        "    # that are equal to 0.\n",
        "    if denominator==0:\n",
        "        result = 0\n",
        "    else:\n",
        "        # Complete the division equation.\n",
        "        result = numerator/denominator\n",
        "    return result\n",
        "\n",
        "\n",
        "print(safe_division(5, 5)) # Should print 1.0\n",
        "print(safe_division(5, 4)) # Should print 1.25\n",
        "print(safe_division(5, 0)) # Should print 0\n",
        "print(safe_division(0, 5)) # Should print 0.0"
      ],
      "metadata": {
        "colab": {
          "base_uri": "https://localhost:8080/"
        },
        "id": "S6XZKEwGHUkg",
        "outputId": "d042994e-4dea-4f89-9413-d7fd3fa2c0b8"
      },
      "execution_count": 3,
      "outputs": [
        {
          "output_type": "stream",
          "name": "stdout",
          "text": [
            "1.0\n",
            "1.25\n",
            "0\n",
            "0.0\n"
          ]
        }
      ]
    }
  ]
}