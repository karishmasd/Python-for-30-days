{
  "nbformat": 4,
  "nbformat_minor": 0,
  "metadata": {
    "colab": {
      "provenance": [],
      "authorship_tag": "ABX9TyNqiBPoooLQhAL9mqTDKadJ",
      "include_colab_link": true
    },
    "kernelspec": {
      "name": "python3",
      "display_name": "Python 3"
    },
    "language_info": {
      "name": "python"
    }
  },
  "cells": [
    {
      "cell_type": "markdown",
      "metadata": {
        "id": "view-in-github",
        "colab_type": "text"
      },
      "source": [
        "<a href=\"https://colab.research.google.com/github/karishmasd/Python-for-30-days/blob/main/Day6.ipynb\" target=\"_parent\"><img src=\"https://colab.research.google.com/assets/colab-badge.svg\" alt=\"Open In Colab\"/></a>"
      ]
    },
    {
      "cell_type": "markdown",
      "source": [
        "**Loops**"
      ],
      "metadata": {
        "id": "XzI8UpJWULY3"
      }
    },
    {
      "cell_type": "code",
      "execution_count": null,
      "metadata": {
        "colab": {
          "base_uri": "https://localhost:8080/"
        },
        "id": "H8Jpb9EBUBDM",
        "outputId": "10c9bed3-a624-4c45-f025-c3df8184be71"
      },
      "outputs": [
        {
          "output_type": "stream",
          "name": "stdout",
          "text": [
            "Not there yet x=0\n",
            "Not there yet x=1\n",
            "Not there yet x=2\n",
            "Not there yet x=3\n",
            "Not there yet x=4\n",
            "x= 5\n"
          ]
        }
      ],
      "source": [
        "x=0\n",
        "while x<5:\n",
        "  print(\"Not there yet x=\"+str(x))\n",
        "  x=x+1\n",
        "print(\"x=\",str(x))"
      ]
    },
    {
      "cell_type": "markdown",
      "source": [
        "A while loop will continuously execute code depending on the value of a condition. It begins with the keyword while, followed by a comparison to be evaluated, then a colon. On the next line is the code block to be executed, indented to the right. Similar to an if statement, the code in the body will only be executed if the comparison is evaluated to be true. What sets a while loop apart, however, is that this code block will keep executing as long as the evaluation statement is true. Once the statement is no longer true, the loop exits and the next line of code will be executed.  \n",
        "\n",
        "intilazation\n",
        "\n",
        "while condition:\n",
        "\n",
        "\n",
        "     body\n",
        "\n",
        "\n",
        "    increment\n",
        "\n",
        "\n",
        "return value"
      ],
      "metadata": {
        "id": "Ba40OC6-V3AG"
      }
    },
    {
      "cell_type": "code",
      "source": [
        "def attempt(n):\n",
        "  x=1\n",
        "  while x<n:\n",
        "    print(\"Attempt\"+str(x))\n",
        "    x=x+1\n",
        "  print(\"Done\")\n",
        "attempt(10)\n"
      ],
      "metadata": {
        "colab": {
          "base_uri": "https://localhost:8080/"
        },
        "id": "NljXsKAiWQDm",
        "outputId": "0e513255-3605-47df-d8b6-7d576838bc00"
      },
      "execution_count": null,
      "outputs": [
        {
          "output_type": "stream",
          "name": "stdout",
          "text": [
            "Attempt1\n",
            "Attempt2\n",
            "Attempt3\n",
            "Attempt4\n",
            "Attempt5\n",
            "Attempt6\n",
            "Attempt7\n",
            "Attempt8\n",
            "Attempt9\n",
            "Done\n"
          ]
        }
      ]
    },
    {
      "cell_type": "code",
      "source": [
        "def attempt(n):\n",
        "  x=1\n",
        "  while x<=n:\n",
        "    print(\"Attempt\"+str(x))\n",
        "    x+=1\n",
        "  print(\"Done\")\n",
        "attempt(10)\n"
      ],
      "metadata": {
        "id": "7XoPZGjKYlTx",
        "colab": {
          "base_uri": "https://localhost:8080/"
        },
        "outputId": "a8542b36-6fbf-40ed-d3f3-288088b45432"
      },
      "execution_count": null,
      "outputs": [
        {
          "output_type": "stream",
          "name": "stdout",
          "text": [
            "Attempt1\n",
            "Attempt2\n",
            "Attempt3\n",
            "Attempt4\n",
            "Attempt5\n",
            "Attempt6\n",
            "Attempt7\n",
            "Attempt8\n",
            "Attempt9\n",
            "Attempt10\n",
            "Done\n"
          ]
        }
      ]
    },
    {
      "cell_type": "code",
      "source": [
        "def get_username():\n",
        "  name=str(input(\"Enter your name: \"))\n",
        "  return name\n",
        "def valid_username(name):\n",
        "  if len(name)>15 or len(name)<5:\n",
        "    print(\"Invalid name too long or too short  \")\n",
        "    return False\n",
        "  return True\n",
        "user_name=get_username()\n",
        "while not valid_username(user_name):\n",
        "  user_name=get_username()\n",
        "print(\"Hello \"+user_name)\n"
      ],
      "metadata": {
        "colab": {
          "base_uri": "https://localhost:8080/"
        },
        "id": "lAPTFu3fYzlV",
        "outputId": "89627439-d6eb-40e4-d7eb-738b544446ae"
      },
      "execution_count": null,
      "outputs": [
        {
          "output_type": "stream",
          "name": "stdout",
          "text": [
            "Enter your name: jo\n",
            "Invalid name too long or too short  \n",
            "Enter your name: jilu\n",
            "Invalid name too long or too short  \n",
            "Enter your name: ammi\n",
            "Invalid name too long or too short  \n",
            "Enter your name: karishma\n",
            "Hello karishma\n"
          ]
        }
      ]
    },
    {
      "cell_type": "code",
      "source": [
        "a=0\n",
        "while a<100:\n",
        "  print(a,end=\" \")# to appear them in the same line\n",
        "  a+=5"
      ],
      "metadata": {
        "colab": {
          "base_uri": "https://localhost:8080/"
        },
        "id": "FYQVGAef9slw",
        "outputId": "0032e8d0-e687-4cb0-e85e-a1cbde99bd36"
      },
      "execution_count": 5,
      "outputs": [
        {
          "output_type": "stream",
          "name": "stdout",
          "text": [
            "0 5 10 15 20 25 30 35 40 45 50 55 60 65 70 75 80 85 90 95 "
          ]
        }
      ]
    },
    {
      "cell_type": "markdown",
      "source": [
        "Write a program to calculate the factorial of a number using a while loop."
      ],
      "metadata": {
        "id": "7VHPGddp_lPR"
      }
    },
    {
      "cell_type": "code",
      "source": [
        "def factorial():\n",
        "  fact=int(input(\"Enter a number to calculate its factorial: \"))\n",
        "  counter=fact\n",
        "  factorial=1\n",
        "  print(\"Dont worry i got your back to calculate the factorial \")\n",
        "  while counter>1:\n",
        "    factorial*=counter\n",
        "    counter-=1\n",
        "  print(\"The factorial of \",fact,\"is\",str(factorial))\n",
        "factorial()"
      ],
      "metadata": {
        "colab": {
          "base_uri": "https://localhost:8080/"
        },
        "id": "fazi9Kvq_mmO",
        "outputId": "a316734a-9caf-4e23-f66a-5e27f2b2385d"
      },
      "execution_count": 11,
      "outputs": [
        {
          "output_type": "stream",
          "name": "stdout",
          "text": [
            "Enter a number to calculate its factorial: 5\n",
            "Dont worry i got your back to calculate the factorial \n",
            "The factorial of  5 is 120\n"
          ]
        }
      ]
    }
  ]
}